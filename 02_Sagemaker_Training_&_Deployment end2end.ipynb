{
 "cells": [
  {
   "cell_type": "markdown",
   "id": "6c095987-0137-4314-8327-3be747780a7c",
   "metadata": {
    "tags": []
   },
   "source": [
    "# Human Activity Recognition - AWS"
   ]
  },
  {
   "cell_type": "markdown",
   "id": "894db4cb-5b82-4573-8cfe-7b16358b696b",
   "metadata": {
    "tags": []
   },
   "source": [
    "### Problem Statement\n",
    "Let’s open the notebook “HAR Model training notebook”. The problem statement for this notebook is: Deploying the Human Activity Recognition problem using the Level 1 MLOps architecture, the aim is to enhance the experience of Blackmi's health app by overcoming the problems faced in the level 0 architecture. Utilising the Human Activity Recognition dataset, we will construct a machine-learning model along with the ML pipelines to categorise user activities for the real-time health alerts using AWS sagemaker studio. Here we will also be monitoring the model performance and deploy the model using different deployment techniques."
   ]
  },
  {
   "cell_type": "markdown",
   "id": "8e57df07-1b14-4dc2-9860-27cdf0ef8c93",
   "metadata": {
    "jp-MarkdownHeadingCollapsed": true,
    "tags": []
   },
   "source": [
    "### Approach \n",
    "In this notebook we will be building the level 1 architecture of MLOps, and our major focus would be on creating ML pipeline, model monitoring and model deployment. The major take away for this lesson is to learn:\n",
    "\n",
    "1. Feature engineering with the amazon sagemaker processing \n",
    "\n"
   ]
  },
  {
   "cell_type": "markdown",
   "id": "741cf658",
   "metadata": {
    "tags": []
   },
   "source": [
    "## 1. Importing the Libraries and Dataset "
   ]
  },
  {
   "cell_type": "code",
   "execution_count": 1,
   "id": "2f1123b0-e1a4-4d15-b0eb-0ff261b8f05e",
   "metadata": {
    "tags": []
   },
   "outputs": [
    {
     "name": "stdout",
     "output_type": "stream",
     "text": [
      "sagemaker.config INFO - Not applying SDK defaults from location: /etc/xdg/sagemaker/config.yaml\n",
      "sagemaker.config INFO - Not applying SDK defaults from location: /home/sagemaker-user/.config/sagemaker/config.yaml\n"
     ]
    }
   ],
   "source": [
    "# Importing all the necessary libraries \n",
    "# Importing pandas and numpy for data preprocessing. \n",
    "import pandas as pd\n",
    "import numpy as np\n",
    "# Boto3 is used for launching the EC2 instances and manipulating s3 buckets.\n",
    "import boto3\n",
    "# Sagemaker is imported for building, training and deploying machine learning models.\n",
    "import sagemaker\n"
   ]
  },
  {
   "cell_type": "code",
   "execution_count": 2,
   "id": "2e63645c-aed6-4890-9d73-93d1b5f6e98b",
   "metadata": {
    "tags": []
   },
   "outputs": [
    {
     "data": {
      "text/plain": [
       "'us-east-1'"
      ]
     },
     "execution_count": 2,
     "metadata": {},
     "output_type": "execute_result"
    }
   ],
   "source": [
    "# Initialising new sagemaker session as \"sess\".\n",
    "sess = sagemaker.Session()\n",
    "# Check for necessary permission needed for training and deploying models. \n",
    "role = sagemaker.get_execution_role()\n",
    "# To understand where this session is configured to operate.\n",
    "region = boto3.Session().region_name\n",
    "region\n"
   ]
  },
  {
   "cell_type": "code",
   "execution_count": 3,
   "id": "1db7e18d-cd51-4e22-8842-8953dbffcbd8",
   "metadata": {
    "tags": []
   },
   "outputs": [
    {
     "data": {
      "text/plain": [
       "'sagemaker-us-east-1-825765393939'"
      ]
     },
     "execution_count": 3,
     "metadata": {},
     "output_type": "execute_result"
    }
   ],
   "source": [
    "bucket = sess.default_bucket()\n",
    "bucket"
   ]
  },
  {
   "cell_type": "code",
   "execution_count": 4,
   "id": "6895d1d8-9c61-4e97-a154-280490992c33",
   "metadata": {
    "tags": []
   },
   "outputs": [],
   "source": [
    "# Bucket variable is used for storing the location of the bucket\n",
    "bucket = sess.default_bucket()\n",
    "# Assigning the prefix variable \n",
    "prefix = 'mlops-human-activity-recognition'\n",
    "###\n",
    "input_source = f's3://{bucket}/{prefix}/data/data.csv'"
   ]
  },
  {
   "cell_type": "code",
   "execution_count": 5,
   "id": "f4dae5ee-28d5-43a8-a079-938fceaef0d9",
   "metadata": {
    "scrolled": true,
    "tags": []
   },
   "outputs": [
    {
     "data": {
      "text/plain": [
       "(7352, 563)"
      ]
     },
     "execution_count": 5,
     "metadata": {},
     "output_type": "execute_result"
    }
   ],
   "source": [
    "# Reading the dataset using the read_parquet format.\n",
    "df = pd.read_csv(input_source)\n",
    "df.shape\n"
   ]
  },
  {
   "cell_type": "code",
   "execution_count": 6,
   "id": "8e7bf30b-faaa-4648-aa26-4875bb2e5a80",
   "metadata": {
    "scrolled": true,
    "tags": []
   },
   "outputs": [
    {
     "data": {
      "text/html": [
       "<div>\n",
       "<style scoped>\n",
       "    .dataframe tbody tr th:only-of-type {\n",
       "        vertical-align: middle;\n",
       "    }\n",
       "\n",
       "    .dataframe tbody tr th {\n",
       "        vertical-align: top;\n",
       "    }\n",
       "\n",
       "    .dataframe thead th {\n",
       "        text-align: right;\n",
       "    }\n",
       "</style>\n",
       "<table border=\"1\" class=\"dataframe\">\n",
       "  <thead>\n",
       "    <tr style=\"text-align: right;\">\n",
       "      <th></th>\n",
       "      <th>tBodyAcc-mean()-X</th>\n",
       "      <th>tBodyAcc-mean()-Y</th>\n",
       "      <th>tBodyAcc-mean()-Z</th>\n",
       "      <th>tBodyAcc-std()-X</th>\n",
       "      <th>tBodyAcc-std()-Y</th>\n",
       "      <th>tBodyAcc-std()-Z</th>\n",
       "      <th>tBodyAcc-mad()-X</th>\n",
       "      <th>tBodyAcc-mad()-Y</th>\n",
       "      <th>tBodyAcc-mad()-Z</th>\n",
       "      <th>tBodyAcc-max()-X</th>\n",
       "      <th>...</th>\n",
       "      <th>fBodyBodyGyroJerkMag-kurtosis()</th>\n",
       "      <th>angle(tBodyAccMean,gravity)</th>\n",
       "      <th>angle(tBodyAccJerkMean),gravityMean)</th>\n",
       "      <th>angle(tBodyGyroMean,gravityMean)</th>\n",
       "      <th>angle(tBodyGyroJerkMean,gravityMean)</th>\n",
       "      <th>angle(X,gravityMean)</th>\n",
       "      <th>angle(Y,gravityMean)</th>\n",
       "      <th>angle(Z,gravityMean)</th>\n",
       "      <th>subject</th>\n",
       "      <th>Activity</th>\n",
       "    </tr>\n",
       "  </thead>\n",
       "  <tbody>\n",
       "    <tr>\n",
       "      <th>0</th>\n",
       "      <td>0.288585</td>\n",
       "      <td>-0.020294</td>\n",
       "      <td>-0.132905</td>\n",
       "      <td>-0.995279</td>\n",
       "      <td>-0.983111</td>\n",
       "      <td>-0.913526</td>\n",
       "      <td>-0.995112</td>\n",
       "      <td>-0.983185</td>\n",
       "      <td>-0.923527</td>\n",
       "      <td>-0.934724</td>\n",
       "      <td>...</td>\n",
       "      <td>-0.710304</td>\n",
       "      <td>-0.112754</td>\n",
       "      <td>0.030400</td>\n",
       "      <td>-0.464761</td>\n",
       "      <td>-0.018446</td>\n",
       "      <td>-0.841247</td>\n",
       "      <td>0.179941</td>\n",
       "      <td>-0.058627</td>\n",
       "      <td>1</td>\n",
       "      <td>STANDING</td>\n",
       "    </tr>\n",
       "    <tr>\n",
       "      <th>1</th>\n",
       "      <td>0.278419</td>\n",
       "      <td>-0.016411</td>\n",
       "      <td>-0.123520</td>\n",
       "      <td>-0.998245</td>\n",
       "      <td>-0.975300</td>\n",
       "      <td>-0.960322</td>\n",
       "      <td>-0.998807</td>\n",
       "      <td>-0.974914</td>\n",
       "      <td>-0.957686</td>\n",
       "      <td>-0.943068</td>\n",
       "      <td>...</td>\n",
       "      <td>-0.861499</td>\n",
       "      <td>0.053477</td>\n",
       "      <td>-0.007435</td>\n",
       "      <td>-0.732626</td>\n",
       "      <td>0.703511</td>\n",
       "      <td>-0.844788</td>\n",
       "      <td>0.180289</td>\n",
       "      <td>-0.054317</td>\n",
       "      <td>1</td>\n",
       "      <td>STANDING</td>\n",
       "    </tr>\n",
       "    <tr>\n",
       "      <th>2</th>\n",
       "      <td>0.279653</td>\n",
       "      <td>-0.019467</td>\n",
       "      <td>-0.113462</td>\n",
       "      <td>-0.995380</td>\n",
       "      <td>-0.967187</td>\n",
       "      <td>-0.978944</td>\n",
       "      <td>-0.996520</td>\n",
       "      <td>-0.963668</td>\n",
       "      <td>-0.977469</td>\n",
       "      <td>-0.938692</td>\n",
       "      <td>...</td>\n",
       "      <td>-0.760104</td>\n",
       "      <td>-0.118559</td>\n",
       "      <td>0.177899</td>\n",
       "      <td>0.100699</td>\n",
       "      <td>0.808529</td>\n",
       "      <td>-0.848933</td>\n",
       "      <td>0.180637</td>\n",
       "      <td>-0.049118</td>\n",
       "      <td>1</td>\n",
       "      <td>STANDING</td>\n",
       "    </tr>\n",
       "    <tr>\n",
       "      <th>3</th>\n",
       "      <td>0.279174</td>\n",
       "      <td>-0.026201</td>\n",
       "      <td>-0.123283</td>\n",
       "      <td>-0.996091</td>\n",
       "      <td>-0.983403</td>\n",
       "      <td>-0.990675</td>\n",
       "      <td>-0.997099</td>\n",
       "      <td>-0.982750</td>\n",
       "      <td>-0.989302</td>\n",
       "      <td>-0.938692</td>\n",
       "      <td>...</td>\n",
       "      <td>-0.482845</td>\n",
       "      <td>-0.036788</td>\n",
       "      <td>-0.012892</td>\n",
       "      <td>0.640011</td>\n",
       "      <td>-0.485366</td>\n",
       "      <td>-0.848649</td>\n",
       "      <td>0.181935</td>\n",
       "      <td>-0.047663</td>\n",
       "      <td>1</td>\n",
       "      <td>STANDING</td>\n",
       "    </tr>\n",
       "    <tr>\n",
       "      <th>4</th>\n",
       "      <td>0.276629</td>\n",
       "      <td>-0.016570</td>\n",
       "      <td>-0.115362</td>\n",
       "      <td>-0.998139</td>\n",
       "      <td>-0.980817</td>\n",
       "      <td>-0.990482</td>\n",
       "      <td>-0.998321</td>\n",
       "      <td>-0.979672</td>\n",
       "      <td>-0.990441</td>\n",
       "      <td>-0.942469</td>\n",
       "      <td>...</td>\n",
       "      <td>-0.699205</td>\n",
       "      <td>0.123320</td>\n",
       "      <td>0.122542</td>\n",
       "      <td>0.693578</td>\n",
       "      <td>-0.615971</td>\n",
       "      <td>-0.847865</td>\n",
       "      <td>0.185151</td>\n",
       "      <td>-0.043892</td>\n",
       "      <td>1</td>\n",
       "      <td>STANDING</td>\n",
       "    </tr>\n",
       "  </tbody>\n",
       "</table>\n",
       "<p>5 rows × 563 columns</p>\n",
       "</div>"
      ],
      "text/plain": [
       "   tBodyAcc-mean()-X  tBodyAcc-mean()-Y  tBodyAcc-mean()-Z  tBodyAcc-std()-X  \\\n",
       "0           0.288585          -0.020294          -0.132905         -0.995279   \n",
       "1           0.278419          -0.016411          -0.123520         -0.998245   \n",
       "2           0.279653          -0.019467          -0.113462         -0.995380   \n",
       "3           0.279174          -0.026201          -0.123283         -0.996091   \n",
       "4           0.276629          -0.016570          -0.115362         -0.998139   \n",
       "\n",
       "   tBodyAcc-std()-Y  tBodyAcc-std()-Z  tBodyAcc-mad()-X  tBodyAcc-mad()-Y  \\\n",
       "0         -0.983111         -0.913526         -0.995112         -0.983185   \n",
       "1         -0.975300         -0.960322         -0.998807         -0.974914   \n",
       "2         -0.967187         -0.978944         -0.996520         -0.963668   \n",
       "3         -0.983403         -0.990675         -0.997099         -0.982750   \n",
       "4         -0.980817         -0.990482         -0.998321         -0.979672   \n",
       "\n",
       "   tBodyAcc-mad()-Z  tBodyAcc-max()-X  ...  fBodyBodyGyroJerkMag-kurtosis()  \\\n",
       "0         -0.923527         -0.934724  ...                        -0.710304   \n",
       "1         -0.957686         -0.943068  ...                        -0.861499   \n",
       "2         -0.977469         -0.938692  ...                        -0.760104   \n",
       "3         -0.989302         -0.938692  ...                        -0.482845   \n",
       "4         -0.990441         -0.942469  ...                        -0.699205   \n",
       "\n",
       "   angle(tBodyAccMean,gravity)  angle(tBodyAccJerkMean),gravityMean)  \\\n",
       "0                    -0.112754                              0.030400   \n",
       "1                     0.053477                             -0.007435   \n",
       "2                    -0.118559                              0.177899   \n",
       "3                    -0.036788                             -0.012892   \n",
       "4                     0.123320                              0.122542   \n",
       "\n",
       "   angle(tBodyGyroMean,gravityMean)  angle(tBodyGyroJerkMean,gravityMean)  \\\n",
       "0                         -0.464761                             -0.018446   \n",
       "1                         -0.732626                              0.703511   \n",
       "2                          0.100699                              0.808529   \n",
       "3                          0.640011                             -0.485366   \n",
       "4                          0.693578                             -0.615971   \n",
       "\n",
       "   angle(X,gravityMean)  angle(Y,gravityMean)  angle(Z,gravityMean)  subject  \\\n",
       "0             -0.841247              0.179941             -0.058627        1   \n",
       "1             -0.844788              0.180289             -0.054317        1   \n",
       "2             -0.848933              0.180637             -0.049118        1   \n",
       "3             -0.848649              0.181935             -0.047663        1   \n",
       "4             -0.847865              0.185151             -0.043892        1   \n",
       "\n",
       "   Activity  \n",
       "0  STANDING  \n",
       "1  STANDING  \n",
       "2  STANDING  \n",
       "3  STANDING  \n",
       "4  STANDING  \n",
       "\n",
       "[5 rows x 563 columns]"
      ]
     },
     "execution_count": 6,
     "metadata": {},
     "output_type": "execute_result"
    }
   ],
   "source": [
    "# Displaying first few rows of the dataset\n",
    "df.head()\n"
   ]
  },
  {
   "cell_type": "code",
   "execution_count": 7,
   "id": "a5fd9274-c169-4b62-ab1b-4b2d531d1685",
   "metadata": {
    "tags": []
   },
   "outputs": [
    {
     "data": {
      "text/plain": [
       "Text(0, 0.5, 'Activity Count')"
      ]
     },
     "execution_count": 7,
     "metadata": {},
     "output_type": "execute_result"
    },
    {
     "data": {
      "image/png": "[encoded data removed]",
      "text/plain": [
       "<Figure size 640x480 with 1 Axes>"
      ]
     },
     "metadata": {
      "image/png": {
       "height": 605,
       "width": 580
      }
     },
     "output_type": "display_data"
    }
   ],
   "source": [
    "# Visualising the data distribution of the Activity column\n",
    "import matplotlib.pyplot as plt\n",
    "\n",
    "%matplotlib inline\n",
    "%config InlineBackend.figure_format='retina'\n",
    "\n",
    "df.groupby(\"Activity\")[['Activity']].count().plot(kind=\"bar\", title=\"Categorical Data Distribution\")\n",
    "plt.xlabel(\"Activity\")\n",
    "plt.ylabel(\"Activity Count\")\n"
   ]
  },
  {
   "cell_type": "markdown",
   "id": "27eab099-4c31-462b-aeaf-46d5bcc9c1d6",
   "metadata": {
    "tags": []
   },
   "source": [
    "## 2. Orchestrated Experiment (Feature Engineering with Amazon SageMaker Processing)"
   ]
  },
  {
   "cell_type": "markdown",
   "id": "558b1f04",
   "metadata": {
    "tags": []
   },
   "source": [
    "### 2.1 Data Pipeline "
   ]
  },
  {
   "cell_type": "code",
   "execution_count": 16,
   "id": "c741aa1c-4236-4157-a207-d1b02e80ba17",
   "metadata": {
    "tags": []
   },
   "outputs": [
    {
     "name": "stdout",
     "output_type": "stream",
     "text": [
      "Overwriting preprocessing.py\n"
     ]
    }
   ],
   "source": [
    "%%writefile preprocessing.py\n",
    "\n",
    "import pandas as pd\n",
    "import numpy as np\n",
    "import argparse\n",
    "import os\n",
    "from joblib import dump, load\n",
    "from sklearn.preprocessing import LabelEncoder\n",
    "from sklearn.ensemble import ExtraTreesClassifier\n",
    "def _parse_args():\n",
    "\n",
    "    parser = argparse.ArgumentParser()\n",
    "    \n",
    "    # Data, model, and output directories\n",
    "    # model_dir is always passed in from SageMaker. By default this is a S3 path under the default bucket.\n",
    "    parser.add_argument('--filepath', type=str, default='/opt/ml/processing/input/')\n",
    "    parser.add_argument('--filename', type=str, default='data.csv')\n",
    "    parser.add_argument('--outputpath', type=str, default='/opt/ml/processing/output/')\n",
    "\n",
    "    return parser.parse_known_args()\n",
    "\n",
    "# Defining a function to extract the top k features \n",
    "def get_top_k_features(X, Y, k):\n",
    "        clf = ExtraTreesClassifier(n_estimators=50)\n",
    "        clf = clf.fit(X, Y)\n",
    "        feature_df = pd.DataFrame(\n",
    "            data=(X.columns, clf.feature_importances_)\n",
    "        ).T.sort_values(by=1, ascending=False)\n",
    "        cols = feature_df.head(k)[0].values\n",
    "        return cols\n",
    "\n",
    "if __name__==\"__main__\":\n",
    "    # Process arguments\n",
    "    args, _ = _parse_args()\n",
    "    # Load data\n",
    "    path = os.path.join(args.filepath,args.filename)\n",
    "    print(path)\n",
    "    \n",
    "    # Reading the dataset and performing label encoding \n",
    "    df = pd.read_csv(os.path.join(args.filepath,args.filename))\n",
    "    df.dropna(inplace = True)\n",
    "    le = LabelEncoder()\n",
    "    df['Activity'] = le.fit_transform(df['Activity'])\n",
    "\n",
    "    # Assignining the indepeneded and depended variable \n",
    "    X = df.drop(['Activity'], axis =1)\n",
    "    Y = df['Activity']\n",
    "    \n",
    "    # Extracting top 12 important feature and filtering the dataset\n",
    "    k =12\n",
    "    final_cols = get_top_k_features(X, Y, k)\n",
    "    final_cols = np.append(final_cols,np.array(['Activity']))\n",
    "    df = df[final_cols]\n",
    "    \n",
    "    # Train, test, validation split\n",
    "    # Randomly sort the data then split out first 70%, second 20%, and last 10%\n",
    "    train_data, validation_data, test_data = np.split(df.sample(frac=1, random_state=42), [int(0.8 * len(df)), int(0.9 * len(df))])  \n",
    "    \n",
    "    # Storing of train, validation and test datasets \n",
    "    pd.concat([train_data['Activity'], train_data.drop(['Activity'], axis=1)], axis=1).to_csv(os.path.join(args.outputpath, 'train/train.csv'), index=False, header=False)\n",
    "    pd.concat([validation_data['Activity'], validation_data.drop(['Activity'], axis=1)], axis=1).to_csv(os.path.join(args.outputpath, 'validation/validation.csv'), index=False, header=False)\n",
    "    test_data[['Activity']].to_csv(os.path.join(args.outputpath, 'test/test_y.csv'), index=False, header=False)\n",
    "    test_data.drop(['Activity'], axis=1).to_csv(os.path.join(args.outputpath, 'test/test_x.csv'), index=False, header=False)\n",
    "    \n",
    "    ## Save Features columns\n",
    "    dump(final_cols, os.path.join(args.outputpath, 'feature/feature.joblib'))\n",
    "    ## Save Encoder\n",
    "    dump(le, os.path.join(args.outputpath, 'feature/encoder.joblib'))\n",
    "    \n",
    "    print(\"## Processing complete. Exiting.\")"
   ]
  },
  {
   "cell_type": "code",
   "execution_count": 17,
   "id": "5522538f-57f2-457a-8936-b11ca432384c",
   "metadata": {
    "tags": []
   },
   "outputs": [],
   "source": [
    "train_path = f\"s3://{bucket}/{prefix}/train\"\n",
    "validation_path = f\"s3://{bucket}/{prefix}/validation\"\n",
    "test_path = f\"s3://{bucket}/{prefix}/test\"\n",
    "feature_path = f\"s3://{bucket}/{prefix}/feature\""
   ]
  },
  {
   "cell_type": "code",
   "execution_count": 18,
   "id": "aa725f3b-c253-4c84-afd5-7a24e3a7fa81",
   "metadata": {
    "tags": []
   },
   "outputs": [
    {
     "name": "stderr",
     "output_type": "stream",
     "text": [
      "INFO:sagemaker.image_uris:Defaulting to only available Python version: py3\n",
      "INFO:sagemaker:Creating processing-job with name sklearn-data-preprocessing-2024-11-22-06-39-47-213\n"
     ]
    },
    {
     "name": "stdout",
     "output_type": "stream",
     "text": [
      "................\u001b[34m/opt/ml/processing/input/data.csv\u001b[0m\n",
      "\u001b[34m## Processing complete. Exiting.\u001b[0m\n",
      "\n"
     ]
    }
   ],
   "source": [
    "# Importing necessary library for data processing \n",
    "from sagemaker.sklearn.processing import SKLearnProcessor\n",
    "from sagemaker.processing import ProcessingInput, ProcessingOutput\n",
    "from sagemaker import get_execution_role\n",
    "\n",
    "sklearn_processor = SKLearnProcessor(\n",
    "    framework_version=\"0.23-1\",\n",
    "    role=get_execution_role(),\n",
    "    instance_type=\"ml.t3.medium\",\n",
    "    instance_count=1, \n",
    "    base_job_name='sklearn-data-preprocessing'\n",
    ")\n",
    "\n",
    "sklearn_processor.run(\n",
    "    code='preprocessing.py',\n",
    "    inputs=[\n",
    "        ProcessingInput(\n",
    "            source=input_source, \n",
    "            destination=\"/opt/ml/processing/input\",\n",
    "            s3_input_mode=\"File\",\n",
    "            s3_data_distribution_type=\"ShardedByS3Key\"\n",
    "        )\n",
    "    ],\n",
    "    outputs=[\n",
    "        ProcessingOutput(\n",
    "            output_name=\"train_data\", \n",
    "            source=\"/opt/ml/processing/output/train\",\n",
    "            destination=train_path,\n",
    "        ),\n",
    "        ProcessingOutput(output_name=\"validation_data\", source=\"/opt/ml/processing/output/validation\", destination=validation_path),\n",
    "        ProcessingOutput(output_name=\"test_data\", source=\"/opt/ml/processing/output/test\", destination=test_path),\n",
    "        ProcessingOutput(output_name=\"feature_data\", source=\"/opt/ml/processing/output/feature\", destination=feature_path)\n",
    "    ]\n",
    ")"
   ]
  },
  {
   "cell_type": "markdown",
   "id": "3f03df72-150c-403f-a8ec-045800786489",
   "metadata": {
    "tags": []
   },
   "source": [
    "## 2.2 Training"
   ]
  },
  {
   "cell_type": "code",
   "execution_count": 19,
   "id": "5c264cd4-10d5-4847-b508-296ea7ee98d3",
   "metadata": {
    "tags": []
   },
   "outputs": [],
   "source": [
    "s3_input_train = sagemaker.TrainingInput(s3_data=train_path.format(bucket, prefix), \n",
    "                                                    content_type='csv')\n",
    "s3_input_validation = sagemaker.TrainingInput(s3_data=validation_path.format(bucket, prefix),\n",
    "                                                     content_type='csv')"
   ]
  },
  {
   "cell_type": "code",
   "execution_count": 20,
   "id": "f8047c90-e191-4ab7-8014-6184be3c3d07",
   "metadata": {
    "tags": []
   },
   "outputs": [],
   "source": [
    "# Model pipeline"
   ]
  },
  {
   "cell_type": "code",
   "execution_count": 21,
   "id": "1449514a-1c38-489c-a363-e205d4adc54d",
   "metadata": {
    "tags": []
   },
   "outputs": [
    {
     "name": "stdout",
     "output_type": "stream",
     "text": [
      "Overwriting sklearn-train.py\n"
     ]
    }
   ],
   "source": [
    "%%writefile sklearn-train.py \n",
    "\n",
    "from sklearn.ensemble import RandomForestClassifier\n",
    "from sklearn.metrics import accuracy_score\n",
    "from joblib import dump, load\n",
    "import pandas as pd, numpy as np, os, argparse\n",
    "\n",
    "## predict \n",
    "\n",
    "# inference function - tells SageMaker how to load the model\n",
    "def model_fn(model_dir):\n",
    "    clf = load(os.path.join(model_dir, \"model.joblib\"))\n",
    "    return clf    \n",
    "        \n",
    "# Argument parser\n",
    "def _parse_args():\n",
    "    parser = argparse.ArgumentParser()\n",
    "    # Hyperparameters\n",
    "    parser.add_argument(\"--n-estimators\", type=int, default=10)\n",
    "    parser.add_argument(\"--min-samples-leaf\", type=int, default=3)\n",
    "    # Data, model, and output directories\n",
    "    parser.add_argument(\"--model-dir\", type=str, default=os.environ.get(\"SM_MODEL_DIR\"))\n",
    "    parser.add_argument(\"--train\", type=str, default=os.environ.get(\"SM_CHANNEL_TRAIN\"))\n",
    "    parser.add_argument(\"--test\", type=str, default=os.environ.get(\"SM_CHANNEL_TEST\"))\n",
    "    parser.add_argument(\"--train-file\", type=str, default=\"train.csv\")\n",
    "    parser.add_argument(\"--test-file\", type=str, default=\"test.csv\")\n",
    "    # Parse the arguments\n",
    "    return parser.parse_known_args()\n",
    "\n",
    "# Main Training Loop\n",
    "if __name__==\"__main__\":\n",
    "    # Process arguments\n",
    "    args, _ = _parse_args()\n",
    "    # Load the dataset\n",
    "    train_df = pd.read_csv(os.path.join(args.train, args.train_file))\n",
    "    test_df = pd.read_csv(os.path.join(args.test, args.test_file))\n",
    "    # Separate X and y\n",
    "    X_train, y_train = train_df.drop(train_df.columns[0], axis=1), train_df[train_df.columns[0]]\n",
    "    X_test, y_test = test_df.drop(test_df.columns[0], axis=1), test_df[test_df.columns[0]]\n",
    "    # Define the model and train it\n",
    "    model = RandomForestClassifier(\n",
    "        n_estimators=args.n_estimators, n_jobs=-1\n",
    "    )\n",
    "    model.fit(X_train, y_train)\n",
    "    # Evaluate the model performances\n",
    "    print(f'Model Accuracy: {accuracy_score(y_test, model.predict(X_test))}')\n",
    "    dump(model, os.path.join(args.model_dir, 'model.joblib'))\n",
    "    "
   ]
  },
  {
   "cell_type": "code",
   "execution_count": 22,
   "id": "5b4fd364-fe2d-4a93-9305-3035093bcfee",
   "metadata": {
    "tags": []
   },
   "outputs": [
    {
     "name": "stderr",
     "output_type": "stream",
     "text": [
      "INFO:sagemaker:Creating training-job with name: rf-scikit-2024-11-22-06-45-12-785\n"
     ]
    },
    {
     "name": "stdout",
     "output_type": "stream",
     "text": [
      "2024-11-22 06:45:14 Starting - Starting the training job...\n",
      "2024-11-22 06:45:28 Starting - Preparing the instances for training...\n",
      "2024-11-22 06:46:02 Downloading - Downloading input data...\n",
      "2024-11-22 06:46:32 Downloading - Downloading the training image..\u001b[34m2024-11-22 06:46:56,943 sagemaker-containers INFO     Imported framework sagemaker_sklearn_container.training\u001b[0m\n",
      "\u001b[34m2024-11-22 06:46:56,946 sagemaker-training-toolkit INFO     No GPUs detected (normal if no gpus installed)\u001b[0m\n",
      "\u001b[34m2024-11-22 06:46:56,984 sagemaker_sklearn_container.training INFO     Invoking user training script.\u001b[0m\n",
      "\u001b[34m2024-11-22 06:46:57,145 sagemaker-training-toolkit INFO     No GPUs detected (normal if no gpus installed)\u001b[0m\n",
      "\u001b[34m2024-11-22 06:46:57,156 sagemaker-training-toolkit INFO     No GPUs detected (normal if no gpus installed)\u001b[0m\n",
      "\u001b[34m2024-11-22 06:46:57,166 sagemaker-training-toolkit INFO     No GPUs detected (normal if no gpus installed)\u001b[0m\n",
      "\u001b[34m2024-11-22 06:46:57,174 sagemaker-training-toolkit INFO     Invoking user script\u001b[0m\n",
      "\u001b[34mTraining Env:\u001b[0m\n",
      "\u001b[34m{\n",
      "    \"additional_framework_parameters\": {},\n",
      "    \"channel_input_dirs\": {\n",
      "        \"test\": \"/opt/ml/input/data/test\",\n",
      "        \"train\": \"/opt/ml/input/data/train\"\n",
      "    },\n",
      "    \"current_host\": \"algo-1\",\n",
      "    \"framework_module\": \"sagemaker_sklearn_container.training:main\",\n",
      "    \"hosts\": [\n",
      "        \"algo-1\"\n",
      "    ],\n",
      "    \"hyperparameters\": {\n",
      "        \"min-samples-leaf\": 3,\n",
      "        \"n-estimators\": 120,\n",
      "        \"test-file\": \"validation.csv\"\n",
      "    },\n",
      "    \"input_config_dir\": \"/opt/ml/input/config\",\n",
      "    \"input_data_config\": {\n",
      "        \"test\": {\n",
      "            \"ContentType\": \"csv\",\n",
      "            \"TrainingInputMode\": \"File\",\n",
      "            \"S3DistributionType\": \"FullyReplicated\",\n",
      "            \"RecordWrapperType\": \"None\"\n",
      "        },\n",
      "        \"train\": {\n",
      "            \"ContentType\": \"csv\",\n",
      "            \"TrainingInputMode\": \"File\",\n",
      "            \"S3DistributionType\": \"FullyReplicated\",\n",
      "            \"RecordWrapperType\": \"None\"\n",
      "        }\n",
      "    },\n",
      "    \"input_dir\": \"/opt/ml/input\",\n",
      "    \"is_master\": true,\n",
      "    \"job_name\": \"rf-scikit-2024-11-22-06-45-12-785\",\n",
      "    \"log_level\": 20,\n",
      "    \"master_hostname\": \"algo-1\",\n",
      "    \"model_dir\": \"/opt/ml/model\",\n",
      "    \"module_dir\": \"s3://sagemaker-us-east-1-825765393939/rf-scikit-2024-11-22-06-45-12-785/source/sourcedir.tar.gz\",\n",
      "    \"module_name\": \"sklearn-train\",\n",
      "    \"network_interface_name\": \"eth0\",\n",
      "    \"num_cpus\": 4,\n",
      "    \"num_gpus\": 0,\n",
      "    \"output_data_dir\": \"/opt/ml/output/data\",\n",
      "    \"output_dir\": \"/opt/ml/output\",\n",
      "    \"output_intermediate_dir\": \"/opt/ml/output/intermediate\",\n",
      "    \"resource_config\": {\n",
      "        \"current_host\": \"algo-1\",\n",
      "        \"current_instance_type\": \"ml.c5.xlarge\",\n",
      "        \"current_group_name\": \"homogeneousCluster\",\n",
      "        \"hosts\": [\n",
      "            \"algo-1\"\n",
      "        ],\n",
      "        \"instance_groups\": [\n",
      "            {\n",
      "                \"instance_group_name\": \"homogeneousCluster\",\n",
      "                \"instance_type\": \"ml.c5.xlarge\",\n",
      "                \"hosts\": [\n",
      "                    \"algo-1\"\n",
      "                ]\n",
      "            }\n",
      "        ],\n",
      "        \"network_interface_name\": \"eth0\"\n",
      "    },\n",
      "    \"user_entry_point\": \"sklearn-train.py\"\u001b[0m\n",
      "\u001b[34m}\u001b[0m\n",
      "\u001b[34mEnvironment variables:\u001b[0m\n",
      "\u001b[34mSM_HOSTS=[\"algo-1\"]\u001b[0m\n",
      "\u001b[34mSM_NETWORK_INTERFACE_NAME=eth0\u001b[0m\n",
      "\u001b[34mSM_HPS={\"min-samples-leaf\":3,\"n-estimators\":120,\"test-file\":\"validation.csv\"}\u001b[0m\n",
      "\u001b[34mSM_USER_ENTRY_POINT=sklearn-train.py\u001b[0m\n",
      "\u001b[34mSM_FRAMEWORK_PARAMS={}\u001b[0m\n",
      "\u001b[34mSM_RESOURCE_CONFIG={\"current_group_name\":\"homogeneousCluster\",\"current_host\":\"algo-1\",\"current_instance_type\":\"ml.c5.xlarge\",\"hosts\":[\"algo-1\"],\"instance_groups\":[{\"hosts\":[\"algo-1\"],\"instance_group_name\":\"homogeneousCluster\",\"instance_type\":\"ml.c5.xlarge\"}],\"network_interface_name\":\"eth0\"}\u001b[0m\n",
      "\u001b[34mSM_INPUT_DATA_CONFIG={\"test\":{\"ContentType\":\"csv\",\"RecordWrapperType\":\"None\",\"S3DistributionType\":\"FullyReplicated\",\"TrainingInputMode\":\"File\"},\"train\":{\"ContentType\":\"csv\",\"RecordWrapperType\":\"None\",\"S3DistributionType\":\"FullyReplicated\",\"TrainingInputMode\":\"File\"}}\u001b[0m\n",
      "\u001b[34mSM_OUTPUT_DATA_DIR=/opt/ml/output/data\u001b[0m\n",
      "\u001b[34mSM_CHANNELS=[\"test\",\"train\"]\u001b[0m\n",
      "\u001b[34mSM_CURRENT_HOST=algo-1\u001b[0m\n",
      "\u001b[34mSM_MODULE_NAME=sklearn-train\u001b[0m\n",
      "\u001b[34mSM_LOG_LEVEL=20\u001b[0m\n",
      "\u001b[34mSM_FRAMEWORK_MODULE=sagemaker_sklearn_container.training:main\u001b[0m\n",
      "\u001b[34mSM_INPUT_DIR=/opt/ml/input\u001b[0m\n",
      "\u001b[34mSM_INPUT_CONFIG_DIR=/opt/ml/input/config\u001b[0m\n",
      "\u001b[34mSM_OUTPUT_DIR=/opt/ml/output\u001b[0m\n",
      "\u001b[34mSM_NUM_CPUS=4\u001b[0m\n",
      "\u001b[34mSM_NUM_GPUS=0\u001b[0m\n",
      "\u001b[34mSM_MODEL_DIR=/opt/ml/model\u001b[0m\n",
      "\u001b[34mSM_MODULE_DIR=s3://sagemaker-us-east-1-825765393939/rf-scikit-2024-11-22-06-45-12-785/source/sourcedir.tar.gz\u001b[0m\n",
      "\u001b[34mSM_TRAINING_ENV={\"additional_framework_parameters\":{},\"channel_input_dirs\":{\"test\":\"/opt/ml/input/data/test\",\"train\":\"/opt/ml/input/data/train\"},\"current_host\":\"algo-1\",\"framework_module\":\"sagemaker_sklearn_container.training:main\",\"hosts\":[\"algo-1\"],\"hyperparameters\":{\"min-samples-leaf\":3,\"n-estimators\":120,\"test-file\":\"validation.csv\"},\"input_config_dir\":\"/opt/ml/input/config\",\"input_data_config\":{\"test\":{\"ContentType\":\"csv\",\"RecordWrapperType\":\"None\",\"S3DistributionType\":\"FullyReplicated\",\"TrainingInputMode\":\"File\"},\"train\":{\"ContentType\":\"csv\",\"RecordWrapperType\":\"None\",\"S3DistributionType\":\"FullyReplicated\",\"TrainingInputMode\":\"File\"}},\"input_dir\":\"/opt/ml/input\",\"is_master\":true,\"job_name\":\"rf-scikit-2024-11-22-06-45-12-785\",\"log_level\":20,\"master_hostname\":\"algo-1\",\"model_dir\":\"/opt/ml/model\",\"module_dir\":\"s3://sagemaker-us-east-1-825765393939/rf-scikit-2024-11-22-06-45-12-785/source/sourcedir.tar.gz\",\"module_name\":\"sklearn-train\",\"network_interface_name\":\"eth0\",\"num_cpus\":4,\"num_gpus\":0,\"output_data_dir\":\"/opt/ml/output/data\",\"output_dir\":\"/opt/ml/output\",\"output_intermediate_dir\":\"/opt/ml/output/intermediate\",\"resource_config\":{\"current_group_name\":\"homogeneousCluster\",\"current_host\":\"algo-1\",\"current_instance_type\":\"ml.c5.xlarge\",\"hosts\":[\"algo-1\"],\"instance_groups\":[{\"hosts\":[\"algo-1\"],\"instance_group_name\":\"homogeneousCluster\",\"instance_type\":\"ml.c5.xlarge\"}],\"network_interface_name\":\"eth0\"},\"user_entry_point\":\"sklearn-train.py\"}\u001b[0m\n",
      "\u001b[34mSM_USER_ARGS=[\"--min-samples-leaf\",\"3\",\"--n-estimators\",\"120\",\"--test-file\",\"validation.csv\"]\u001b[0m\n",
      "\u001b[34mSM_OUTPUT_INTERMEDIATE_DIR=/opt/ml/output/intermediate\u001b[0m\n",
      "\u001b[34mSM_CHANNEL_TEST=/opt/ml/input/data/test\u001b[0m\n",
      "\u001b[34mSM_CHANNEL_TRAIN=/opt/ml/input/data/train\u001b[0m\n",
      "\u001b[34mSM_HP_MIN-SAMPLES-LEAF=3\u001b[0m\n",
      "\u001b[34mSM_HP_N-ESTIMATORS=120\u001b[0m\n",
      "\u001b[34mSM_HP_TEST-FILE=validation.csv\u001b[0m\n",
      "\u001b[34mPYTHONPATH=/opt/ml/code:/miniconda3/bin:/miniconda3/lib/python37.zip:/miniconda3/lib/python3.7:/miniconda3/lib/python3.7/lib-dynload:/miniconda3/lib/python3.7/site-packages\u001b[0m\n",
      "\u001b[34mInvoking script with the following command:\u001b[0m\n",
      "\u001b[34m/miniconda3/bin/python sklearn-train.py --min-samples-leaf 3 --n-estimators 120 --test-file validation.csv\u001b[0m\n",
      "\u001b[34mModel Accuracy: 0.9455040871934605\u001b[0m\n",
      "\u001b[34m2024-11-22 06:46:58,724 sagemaker-containers INFO     Reporting training SUCCESS\u001b[0m\n",
      "\n",
      "2024-11-22 06:47:15 Training - Training image download completed. Training in progress.\n",
      "2024-11-22 06:47:15 Uploading - Uploading generated training model\n",
      "2024-11-22 06:47:15 Completed - Training job completed\n",
      "Training seconds: 74\n",
      "Billable seconds: 74\n"
     ]
    }
   ],
   "source": [
    "# We use the Estimator from the SageMaker Python SDK\n",
    "from sagemaker import get_execution_role\n",
    "from sagemaker.sklearn.estimator import SKLearn\n",
    "\n",
    "FRAMEWORK_VERSION = \"0.23-1\"\n",
    "\n",
    "# Define the Estimator from SageMaker (Script Mode)\n",
    "sklearn_estimator = SKLearn(\n",
    "    entry_point=\"sklearn-train.py\",\n",
    "    role=get_execution_role(),\n",
    "    instance_count=1,\n",
    "    instance_type=\"ml.c5.xlarge\",\n",
    "    framework_version=FRAMEWORK_VERSION,\n",
    "    base_job_name=\"rf-scikit\",\n",
    "    metric_definitions=[{\"Name\": \"Accuracy\", \"Regex\": \"Accuracy: ([0-9.]+).*$\"}],\n",
    "    hyperparameters={\n",
    "        \"n-estimators\": 120,\n",
    "        \"min-samples-leaf\": 3,\n",
    "        \"test-file\": \"validation.csv\"\n",
    "    },\n",
    ")\n",
    "\n",
    "# Train the model (~5 minutes)\n",
    "sklearn_estimator.fit({\"train\": s3_input_train, \"test\": s3_input_validation})"
   ]
  },
  {
   "cell_type": "markdown",
   "id": "a7f32d72-bfa5-48a3-8372-9085235287dc",
   "metadata": {
    "tags": []
   },
   "source": [
    "## 2.3 Hyper Parameter"
   ]
  },
  {
   "cell_type": "code",
   "execution_count": 18,
   "id": "877aa689-0567-4489-8229-92bdac4f0c47",
   "metadata": {
    "tags": []
   },
   "outputs": [],
   "source": [
    "# we use the Hyperparameter Tuner\n",
    "from sagemaker.tuner import IntegerParameter\n",
    "\n",
    "# Define exploration boundaries\n",
    "hyperparameter_ranges = {\n",
    "    \"n-estimators\": IntegerParameter(100, 200),\n",
    "    \"min-samples-leaf\": IntegerParameter(2, 6)\n",
    "}\n",
    "\n",
    "Optimizer = sagemaker.tuner.HyperparameterTuner(\n",
    "    estimator=sklearn_estimator,\n",
    "    hyperparameter_ranges=hyperparameter_ranges,\n",
    "    base_tuning_job_name=\"RF-tuner\",\n",
    "    objective_type=\"Maximize\",\n",
    "    objective_metric_name=\"Accuracy\",\n",
    "    metric_definitions=[\n",
    "        {\"Name\": \"Accuracy\", \"Regex\": \"Accuracy: ([0-9.]+).*$\"}\n",
    "    ],  # extract tracked metric from logs with regexp\n",
    "    max_jobs=10,\n",
    "    max_parallel_jobs=2,\n",
    ")"
   ]
  },
  {
   "cell_type": "code",
   "execution_count": 19,
   "id": "5ac8dc2e-fd35-49c4-936d-4c0d3fdc4d9f",
   "metadata": {
    "tags": []
   },
   "outputs": [
    {
     "name": "stdout",
     "output_type": "stream",
     "text": [
      "Using provided s3_resource\n"
     ]
    },
    {
     "name": "stderr",
     "output_type": "stream",
     "text": [
      "INFO:sagemaker:Creating hyperparameter tuning job with name: RF-tuner-231107-0928\n"
     ]
    },
    {
     "name": "stdout",
     "output_type": "stream",
     "text": [
      ".........................................................................................!\n"
     ]
    }
   ],
   "source": [
    "Optimizer.fit({\"train\": s3_input_train, \"test\": s3_input_validation})"
   ]
  },
  {
   "cell_type": "code",
   "execution_count": 20,
   "id": "6daf9cd2-e16f-44a0-a5f7-1f5c6e0031ac",
   "metadata": {
    "tags": []
   },
   "outputs": [
    {
     "data": {
      "text/html": [
       "<div>\n",
       "<style scoped>\n",
       "    .dataframe tbody tr th:only-of-type {\n",
       "        vertical-align: middle;\n",
       "    }\n",
       "\n",
       "    .dataframe tbody tr th {\n",
       "        vertical-align: top;\n",
       "    }\n",
       "\n",
       "    .dataframe thead th {\n",
       "        text-align: right;\n",
       "    }\n",
       "</style>\n",
       "<table border=\"1\" class=\"dataframe\">\n",
       "  <thead>\n",
       "    <tr style=\"text-align: right;\">\n",
       "      <th></th>\n",
       "      <th>min-samples-leaf</th>\n",
       "      <th>n-estimators</th>\n",
       "      <th>TrainingJobName</th>\n",
       "      <th>TrainingJobStatus</th>\n",
       "      <th>FinalObjectiveValue</th>\n",
       "      <th>TrainingStartTime</th>\n",
       "      <th>TrainingEndTime</th>\n",
       "      <th>TrainingElapsedTimeSeconds</th>\n",
       "    </tr>\n",
       "  </thead>\n",
       "  <tbody>\n",
       "    <tr>\n",
       "      <th>0</th>\n",
       "      <td>2.0</td>\n",
       "      <td>115.0</td>\n",
       "      <td>RF-tuner-231107-0928-010-568fbefe</td>\n",
       "      <td>Completed</td>\n",
       "      <td>0.832383</td>\n",
       "      <td>2023-11-07 09:35:04+00:00</td>\n",
       "      <td>2023-11-07 09:35:45+00:00</td>\n",
       "      <td>41.0</td>\n",
       "    </tr>\n",
       "    <tr>\n",
       "      <th>1</th>\n",
       "      <td>3.0</td>\n",
       "      <td>115.0</td>\n",
       "      <td>RF-tuner-231107-0928-009-e1b632f5</td>\n",
       "      <td>Completed</td>\n",
       "      <td>0.832983</td>\n",
       "      <td>2023-11-07 09:34:56+00:00</td>\n",
       "      <td>2023-11-07 09:35:48+00:00</td>\n",
       "      <td>52.0</td>\n",
       "    </tr>\n",
       "    <tr>\n",
       "      <th>2</th>\n",
       "      <td>3.0</td>\n",
       "      <td>116.0</td>\n",
       "      <td>RF-tuner-231107-0928-008-7c9ed9d6</td>\n",
       "      <td>Completed</td>\n",
       "      <td>0.831883</td>\n",
       "      <td>2023-11-07 09:34:08+00:00</td>\n",
       "      <td>2023-11-07 09:34:50+00:00</td>\n",
       "      <td>42.0</td>\n",
       "    </tr>\n",
       "    <tr>\n",
       "      <th>3</th>\n",
       "      <td>3.0</td>\n",
       "      <td>118.0</td>\n",
       "      <td>RF-tuner-231107-0928-007-f253136d</td>\n",
       "      <td>Completed</td>\n",
       "      <td>0.834183</td>\n",
       "      <td>2023-11-07 09:33:54+00:00</td>\n",
       "      <td>2023-11-07 09:34:40+00:00</td>\n",
       "      <td>46.0</td>\n",
       "    </tr>\n",
       "    <tr>\n",
       "      <th>4</th>\n",
       "      <td>3.0</td>\n",
       "      <td>109.0</td>\n",
       "      <td>RF-tuner-231107-0928-006-94aa02cd</td>\n",
       "      <td>Completed</td>\n",
       "      <td>0.831983</td>\n",
       "      <td>2023-11-07 09:32:49+00:00</td>\n",
       "      <td>2023-11-07 09:33:35+00:00</td>\n",
       "      <td>46.0</td>\n",
       "    </tr>\n",
       "  </tbody>\n",
       "</table>\n",
       "</div>"
      ],
      "text/plain": [
       "   min-samples-leaf  n-estimators                    TrainingJobName  \\\n",
       "0               2.0         115.0  RF-tuner-231107-0928-010-568fbefe   \n",
       "1               3.0         115.0  RF-tuner-231107-0928-009-e1b632f5   \n",
       "2               3.0         116.0  RF-tuner-231107-0928-008-7c9ed9d6   \n",
       "3               3.0         118.0  RF-tuner-231107-0928-007-f253136d   \n",
       "4               3.0         109.0  RF-tuner-231107-0928-006-94aa02cd   \n",
       "\n",
       "  TrainingJobStatus  FinalObjectiveValue         TrainingStartTime  \\\n",
       "0         Completed             0.832383 2023-11-07 09:35:04+00:00   \n",
       "1         Completed             0.832983 2023-11-07 09:34:56+00:00   \n",
       "2         Completed             0.831883 2023-11-07 09:34:08+00:00   \n",
       "3         Completed             0.834183 2023-11-07 09:33:54+00:00   \n",
       "4         Completed             0.831983 2023-11-07 09:32:49+00:00   \n",
       "\n",
       "            TrainingEndTime  TrainingElapsedTimeSeconds  \n",
       "0 2023-11-07 09:35:45+00:00                        41.0  \n",
       "1 2023-11-07 09:35:48+00:00                        52.0  \n",
       "2 2023-11-07 09:34:50+00:00                        42.0  \n",
       "3 2023-11-07 09:34:40+00:00                        46.0  \n",
       "4 2023-11-07 09:33:35+00:00                        46.0  "
      ]
     },
     "execution_count": 20,
     "metadata": {},
     "output_type": "execute_result"
    }
   ],
   "source": [
    "# get tuner results in a df\n",
    "results = Optimizer.analytics().dataframe()\n",
    "while results.empty:\n",
    "    time.sleep(1)\n",
    "    results = Optimizer.analytics().dataframe()\n",
    "results.head()\n"
   ]
  },
  {
   "cell_type": "markdown",
   "id": "43191136-3a91-4cfa-877f-aacc453e82f5",
   "metadata": {
    "tags": []
   },
   "source": [
    "## 2.4 Sagemaker XGboost"
   ]
  },
  {
   "cell_type": "code",
   "execution_count": 32,
   "id": "5b2213a4-c7cd-4f30-b369-937e80160b20",
   "metadata": {
    "tags": []
   },
   "outputs": [
    {
     "name": "stderr",
     "output_type": "stream",
     "text": [
      "INFO:sagemaker.image_uris:Ignoring unnecessary instance type: None.\n"
     ]
    },
    {
     "name": "stdout",
     "output_type": "stream",
     "text": [
      "sagemaker.config INFO - Not applying SDK defaults from location: /etc/xdg/sagemaker/config.yaml\n",
      "sagemaker.config INFO - Not applying SDK defaults from location: /root/.config/sagemaker/config.yaml\n",
      "sagemaker.config INFO - Not applying SDK defaults from location: /etc/xdg/sagemaker/config.yaml\n",
      "sagemaker.config INFO - Not applying SDK defaults from location: /root/.config/sagemaker/config.yaml\n"
     ]
    },
    {
     "name": "stderr",
     "output_type": "stream",
     "text": [
      "INFO:sagemaker:Creating training-job with name: sagemaker-xgboost-2023-11-07-11-07-08-936\n"
     ]
    },
    {
     "name": "stdout",
     "output_type": "stream",
     "text": [
      "2023-11-07 11:07:09 Starting - Starting the training job...\n",
      "2023-11-07 11:07:25 Starting - Preparing the instances for training......\n",
      "2023-11-07 11:08:31 Downloading - Downloading input data...\n",
      "2023-11-07 11:08:56 Training - Downloading the training image...\n",
      "2023-11-07 11:09:16 Training - Training image download completed. Training in progress..\u001b[34m[2023-11-07 11:09:38.255 ip-10-2-211-22.ec2.internal:7 INFO utils.py:28] RULE_JOB_STOP_SIGNAL_FILENAME: None\u001b[0m\n",
      "\u001b[34m[2023-11-07 11:09:38.277 ip-10-2-211-22.ec2.internal:7 INFO profiler_config_parser.py:111] User has disabled profiler.\u001b[0m\n",
      "\u001b[34m[2023-11-07:11:09:38:INFO] Imported framework sagemaker_xgboost_container.training\u001b[0m\n",
      "\u001b[34m[2023-11-07:11:09:38:INFO] Failed to parse hyperparameter eval_metric value balanced_accuracy to Json.\u001b[0m\n",
      "\u001b[34mReturning the value itself\u001b[0m\n",
      "\u001b[34m[2023-11-07:11:09:38:INFO] Failed to parse hyperparameter objective value multi:softmax to Json.\u001b[0m\n",
      "\u001b[34mReturning the value itself\u001b[0m\n",
      "\u001b[34m[2023-11-07:11:09:38:INFO] No GPUs detected (normal if no gpus installed)\u001b[0m\n",
      "\u001b[34m[2023-11-07:11:09:38:INFO] Running XGBoost Sagemaker in algorithm mode\u001b[0m\n",
      "\u001b[34m[2023-11-07:11:09:38:INFO] Determined 0 GPU(s) available on the instance.\u001b[0m\n",
      "\u001b[34m[2023-11-07:11:09:38:INFO] Determined delimiter of CSV input is ','\u001b[0m\n",
      "\u001b[34m[2023-11-07:11:09:38:INFO] Determined delimiter of CSV input is ','\u001b[0m\n",
      "\u001b[34m[2023-11-07:11:09:38:INFO] File path /opt/ml/input/data/train of input files\u001b[0m\n",
      "\u001b[34m[2023-11-07:11:09:38:INFO] Making smlinks from folder /opt/ml/input/data/train to folder /tmp/sagemaker_xgboost_input_data\u001b[0m\n",
      "\u001b[34m[2023-11-07:11:09:38:INFO] creating symlink between Path /opt/ml/input/data/train/train.csv and destination /tmp/sagemaker_xgboost_input_data/train.csv3943196227537576302\u001b[0m\n",
      "\u001b[34m[2023-11-07:11:09:38:INFO] files path: /tmp/sagemaker_xgboost_input_data\u001b[0m\n",
      "\u001b[34m[2023-11-07:11:09:38:INFO] Determined delimiter of CSV input is ','\u001b[0m\n",
      "\u001b[34m[2023-11-07:11:09:38:INFO] File path /opt/ml/input/data/validation of input files\u001b[0m\n",
      "\u001b[34m[2023-11-07:11:09:38:INFO] Making smlinks from folder /opt/ml/input/data/validation to folder /tmp/sagemaker_xgboost_input_data\u001b[0m\n",
      "\u001b[34m[2023-11-07:11:09:38:INFO] creating symlink between Path /opt/ml/input/data/validation/validation.csv and destination /tmp/sagemaker_xgboost_input_data/validation.csv-384692505756665761\u001b[0m\n",
      "\u001b[34m[2023-11-07:11:09:38:INFO] files path: /tmp/sagemaker_xgboost_input_data\u001b[0m\n",
      "\u001b[34m[2023-11-07:11:09:38:INFO] Determined delimiter of CSV input is ','\u001b[0m\n",
      "\u001b[34m[2023-11-07:11:09:38:INFO] Single node training.\u001b[0m\n",
      "\u001b[34m[2023-11-07:11:09:38:INFO] Train matrix has 80000 rows and 12 columns\u001b[0m\n",
      "\u001b[34m[2023-11-07:11:09:38:INFO] Validation matrix has 10000 rows\u001b[0m\n",
      "\u001b[34m[2023-11-07 11:09:38.779 ip-10-2-211-22.ec2.internal:7 INFO json_config.py:92] Creating hook from json_config at /opt/ml/input/config/debughookconfig.json.\u001b[0m\n",
      "\u001b[34m[2023-11-07 11:09:38.780 ip-10-2-211-22.ec2.internal:7 INFO hook.py:206] tensorboard_dir has not been set for the hook. SMDebug will not be exporting tensorboard summaries.\u001b[0m\n",
      "\u001b[34m[2023-11-07 11:09:38.781 ip-10-2-211-22.ec2.internal:7 INFO hook.py:259] Saving to /opt/ml/output/tensors\u001b[0m\n",
      "\u001b[34m[2023-11-07 11:09:38.781 ip-10-2-211-22.ec2.internal:7 INFO state_store.py:77] The checkpoint config file /opt/ml/input/config/checkpointconfig.json does not exist.\u001b[0m\n",
      "\u001b[34m[2023-11-07:11:09:38:INFO] Debug hook created from config\u001b[0m\n",
      "\u001b[34m/miniconda3/lib/python3.8/site-packages/xgboost/training.py:39: UserWarning: `feval` is deprecated, use `custom_metric` instead.  They have different behavior when custom objective is also used.See https://xgboost.readthedocs.io/en/latest/tutorials/custom_metric_obj.html for details on the `custom_metric`.\n",
      "  warnings.warn(\u001b[0m\n",
      "\u001b[34m[2023-11-07 11:09:39.356 ip-10-2-211-22.ec2.internal:7 INFO hook.py:427] Monitoring the collections: metrics\u001b[0m\n",
      "\u001b[34m[2023-11-07 11:09:39.358 ip-10-2-211-22.ec2.internal:7 INFO hook.py:491] Hook is writing from the hook with pid: 7\u001b[0m\n",
      "\u001b[34m[0]#011train-mlogloss:1.42662#011train-balanced_accuracy:0.79858#011validation-mlogloss:1.42733#011validation-balanced_accuracy:0.79176\u001b[0m\n",
      "\u001b[34m[1]#011train-mlogloss:1.20747#011train-balanced_accuracy:0.80965#011validation-mlogloss:1.20902#011validation-balanced_accuracy:0.80533\u001b[0m\n",
      "\u001b[34m[2]#011train-mlogloss:1.05177#011train-balanced_accuracy:0.81264#011validation-mlogloss:1.05388#011validation-balanced_accuracy:0.80852\u001b[0m\n",
      "\u001b[34m[3]#011train-mlogloss:0.93475#011train-balanced_accuracy:0.81517#011validation-mlogloss:0.93770#011validation-balanced_accuracy:0.80851\u001b[0m\n",
      "\u001b[34m[4]#011train-mlogloss:0.84405#011train-balanced_accuracy:0.81675#011validation-mlogloss:0.84756#011validation-balanced_accuracy:0.80949\u001b[0m\n",
      "\u001b[34m[5]#011train-mlogloss:0.77125#011train-balanced_accuracy:0.81779#011validation-mlogloss:0.77560#011validation-balanced_accuracy:0.81224\u001b[0m\n",
      "\u001b[34m[6]#011train-mlogloss:0.71261#011train-balanced_accuracy:0.82079#011validation-mlogloss:0.71741#011validation-balanced_accuracy:0.81629\u001b[0m\n",
      "\u001b[34m[7]#011train-mlogloss:0.66440#011train-balanced_accuracy:0.82300#011validation-mlogloss:0.66945#011validation-balanced_accuracy:0.81720\u001b[0m\n",
      "\u001b[34m[8]#011train-mlogloss:0.62481#011train-balanced_accuracy:0.82407#011validation-mlogloss:0.63037#011validation-balanced_accuracy:0.81832\u001b[0m\n",
      "\u001b[34m[9]#011train-mlogloss:0.59212#011train-balanced_accuracy:0.82537#011validation-mlogloss:0.59797#011validation-balanced_accuracy:0.81893\u001b[0m\n",
      "\u001b[34m[10]#011train-mlogloss:0.56464#011train-balanced_accuracy:0.82637#011validation-mlogloss:0.57081#011validation-balanced_accuracy:0.81857\u001b[0m\n",
      "\u001b[34m[11]#011train-mlogloss:0.54192#011train-balanced_accuracy:0.82700#011validation-mlogloss:0.54840#011validation-balanced_accuracy:0.81899\u001b[0m\n",
      "\u001b[34m[12]#011train-mlogloss:0.52264#011train-balanced_accuracy:0.82749#011validation-mlogloss:0.52948#011validation-balanced_accuracy:0.82145\u001b[0m\n",
      "\u001b[34m[13]#011train-mlogloss:0.50597#011train-balanced_accuracy:0.82785#011validation-mlogloss:0.51317#011validation-balanced_accuracy:0.82195\u001b[0m\n",
      "\u001b[34m[14]#011train-mlogloss:0.49214#011train-balanced_accuracy:0.82848#011validation-mlogloss:0.49974#011validation-balanced_accuracy:0.82417\u001b[0m\n",
      "\u001b[34m[15]#011train-mlogloss:0.48027#011train-balanced_accuracy:0.82898#011validation-mlogloss:0.48860#011validation-balanced_accuracy:0.82438\u001b[0m\n",
      "\u001b[34m[16]#011train-mlogloss:0.47019#011train-balanced_accuracy:0.82990#011validation-mlogloss:0.47874#011validation-balanced_accuracy:0.82541\u001b[0m\n",
      "\u001b[34m[17]#011train-mlogloss:0.46114#011train-balanced_accuracy:0.82996#011validation-mlogloss:0.46994#011validation-balanced_accuracy:0.82543\u001b[0m\n",
      "\u001b[34m[18]#011train-mlogloss:0.45339#011train-balanced_accuracy:0.83035#011validation-mlogloss:0.46245#011validation-balanced_accuracy:0.82443\u001b[0m\n",
      "\u001b[34m[19]#011train-mlogloss:0.44644#011train-balanced_accuracy:0.83063#011validation-mlogloss:0.45591#011validation-balanced_accuracy:0.82565\u001b[0m\n",
      "\u001b[34m[20]#011train-mlogloss:0.44030#011train-balanced_accuracy:0.83098#011validation-mlogloss:0.44997#011validation-balanced_accuracy:0.82605\u001b[0m\n",
      "\u001b[34m[21]#011train-mlogloss:0.43489#011train-balanced_accuracy:0.83161#011validation-mlogloss:0.44458#011validation-balanced_accuracy:0.82819\u001b[0m\n",
      "\u001b[34m[22]#011train-mlogloss:0.43025#011train-balanced_accuracy:0.83224#011validation-mlogloss:0.44009#011validation-balanced_accuracy:0.82871\u001b[0m\n",
      "\u001b[34m[23]#011train-mlogloss:0.42614#011train-balanced_accuracy:0.83247#011validation-mlogloss:0.43616#011validation-balanced_accuracy:0.82903\u001b[0m\n",
      "\u001b[34m[24]#011train-mlogloss:0.42243#011train-balanced_accuracy:0.83281#011validation-mlogloss:0.43265#011validation-balanced_accuracy:0.82933\u001b[0m\n",
      "\u001b[34m[25]#011train-mlogloss:0.41911#011train-balanced_accuracy:0.83315#011validation-mlogloss:0.42978#011validation-balanced_accuracy:0.82893\u001b[0m\n",
      "\u001b[34m[26]#011train-mlogloss:0.41595#011train-balanced_accuracy:0.83336#011validation-mlogloss:0.42677#011validation-balanced_accuracy:0.82925\u001b[0m\n",
      "\u001b[34m[27]#011train-mlogloss:0.41308#011train-balanced_accuracy:0.83341#011validation-mlogloss:0.42397#011validation-balanced_accuracy:0.82996\u001b[0m\n",
      "\u001b[34m[28]#011train-mlogloss:0.41079#011train-balanced_accuracy:0.83352#011validation-mlogloss:0.42191#011validation-balanced_accuracy:0.82926\u001b[0m\n",
      "\u001b[34m[29]#011train-mlogloss:0.40838#011train-balanced_accuracy:0.83370#011validation-mlogloss:0.41958#011validation-balanced_accuracy:0.83027\u001b[0m\n",
      "\u001b[34m[30]#011train-mlogloss:0.40614#011train-balanced_accuracy:0.83409#011validation-mlogloss:0.41742#011validation-balanced_accuracy:0.83049\u001b[0m\n",
      "\u001b[34m[31]#011train-mlogloss:0.40436#011train-balanced_accuracy:0.83421#011validation-mlogloss:0.41577#011validation-balanced_accuracy:0.83049\u001b[0m\n",
      "\u001b[34m[32]#011train-mlogloss:0.40249#011train-balanced_accuracy:0.83468#011validation-mlogloss:0.41429#011validation-balanced_accuracy:0.83039\u001b[0m\n",
      "\u001b[34m[33]#011train-mlogloss:0.40074#011train-balanced_accuracy:0.83477#011validation-mlogloss:0.41268#011validation-balanced_accuracy:0.83059\u001b[0m\n",
      "\u001b[34m[34]#011train-mlogloss:0.39935#011train-balanced_accuracy:0.83512#011validation-mlogloss:0.41145#011validation-balanced_accuracy:0.83090\u001b[0m\n",
      "\u001b[34m[35]#011train-mlogloss:0.39781#011train-balanced_accuracy:0.83518#011validation-mlogloss:0.41011#011validation-balanced_accuracy:0.83113\u001b[0m\n",
      "\u001b[34m[36]#011train-mlogloss:0.39654#011train-balanced_accuracy:0.83532#011validation-mlogloss:0.40916#011validation-balanced_accuracy:0.83022\u001b[0m\n",
      "\u001b[34m[37]#011train-mlogloss:0.39544#011train-balanced_accuracy:0.83553#011validation-mlogloss:0.40834#011validation-balanced_accuracy:0.83003\u001b[0m\n",
      "\u001b[34m[38]#011train-mlogloss:0.39422#011train-balanced_accuracy:0.83574#011validation-mlogloss:0.40734#011validation-balanced_accuracy:0.83084\u001b[0m\n",
      "\u001b[34m[39]#011train-mlogloss:0.39321#011train-balanced_accuracy:0.83571#011validation-mlogloss:0.40662#011validation-balanced_accuracy:0.83054\u001b[0m\n",
      "\u001b[34m[40]#011train-mlogloss:0.39221#011train-balanced_accuracy:0.83600#011validation-mlogloss:0.40577#011validation-balanced_accuracy:0.83055\u001b[0m\n",
      "\u001b[34m[41]#011train-mlogloss:0.39136#011train-balanced_accuracy:0.83615#011validation-mlogloss:0.40510#011validation-balanced_accuracy:0.83095\u001b[0m\n",
      "\u001b[34m[42]#011train-mlogloss:0.39061#011train-balanced_accuracy:0.83644#011validation-mlogloss:0.40453#011validation-balanced_accuracy:0.83085\u001b[0m\n",
      "\u001b[34m[43]#011train-mlogloss:0.38976#011train-balanced_accuracy:0.83670#011validation-mlogloss:0.40374#011validation-balanced_accuracy:0.83084\u001b[0m\n",
      "\u001b[34m[44]#011train-mlogloss:0.38913#011train-balanced_accuracy:0.83681#011validation-mlogloss:0.40333#011validation-balanced_accuracy:0.83114\u001b[0m\n",
      "\u001b[34m[45]#011train-mlogloss:0.38860#011train-balanced_accuracy:0.83684#011validation-mlogloss:0.40307#011validation-balanced_accuracy:0.83104\u001b[0m\n",
      "\u001b[34m[46]#011train-mlogloss:0.38790#011train-balanced_accuracy:0.83685#011validation-mlogloss:0.40264#011validation-balanced_accuracy:0.83094\u001b[0m\n",
      "\u001b[34m[47]#011train-mlogloss:0.38699#011train-balanced_accuracy:0.83694#011validation-mlogloss:0.40220#011validation-balanced_accuracy:0.83116\u001b[0m\n",
      "\u001b[34m[48]#011train-mlogloss:0.38658#011train-balanced_accuracy:0.83712#011validation-mlogloss:0.40178#011validation-balanced_accuracy:0.83105\u001b[0m\n",
      "\u001b[34m[49]#011train-mlogloss:0.38613#011train-balanced_accuracy:0.83719#011validation-mlogloss:0.40141#011validation-balanced_accuracy:0.83116\u001b[0m\n",
      "\u001b[34m[50]#011train-mlogloss:0.38569#011train-balanced_accuracy:0.83717#011validation-mlogloss:0.40114#011validation-balanced_accuracy:0.83116\u001b[0m\n",
      "\u001b[34m[51]#011train-mlogloss:0.38469#011train-balanced_accuracy:0.83749#011validation-mlogloss:0.40035#011validation-balanced_accuracy:0.83187\u001b[0m\n",
      "\u001b[34m[52]#011train-mlogloss:0.38412#011train-balanced_accuracy:0.83771#011validation-mlogloss:0.39996#011validation-balanced_accuracy:0.83177\u001b[0m\n",
      "\u001b[34m[53]#011train-mlogloss:0.38357#011train-balanced_accuracy:0.83800#011validation-mlogloss:0.39969#011validation-balanced_accuracy:0.83207\u001b[0m\n",
      "\u001b[34m[54]#011train-mlogloss:0.38278#011train-balanced_accuracy:0.83832#011validation-mlogloss:0.39945#011validation-balanced_accuracy:0.83257\u001b[0m\n",
      "\u001b[34m[55]#011train-mlogloss:0.38223#011train-balanced_accuracy:0.83838#011validation-mlogloss:0.39911#011validation-balanced_accuracy:0.83248\u001b[0m\n",
      "\u001b[34m[56]#011train-mlogloss:0.38192#011train-balanced_accuracy:0.83846#011validation-mlogloss:0.39896#011validation-balanced_accuracy:0.83237\u001b[0m\n",
      "\u001b[34m[57]#011train-mlogloss:0.38158#011train-balanced_accuracy:0.83844#011validation-mlogloss:0.39871#011validation-balanced_accuracy:0.83207\u001b[0m\n",
      "\u001b[34m[58]#011train-mlogloss:0.38105#011train-balanced_accuracy:0.83871#011validation-mlogloss:0.39856#011validation-balanced_accuracy:0.83235\u001b[0m\n",
      "\u001b[34m[59]#011train-mlogloss:0.38074#011train-balanced_accuracy:0.83886#011validation-mlogloss:0.39832#011validation-balanced_accuracy:0.83165\u001b[0m\n",
      "\u001b[34m[60]#011train-mlogloss:0.38049#011train-balanced_accuracy:0.83879#011validation-mlogloss:0.39826#011validation-balanced_accuracy:0.83175\u001b[0m\n",
      "\u001b[34m[61]#011train-mlogloss:0.38008#011train-balanced_accuracy:0.83892#011validation-mlogloss:0.39822#011validation-balanced_accuracy:0.83196\u001b[0m\n",
      "\u001b[34m[62]#011train-mlogloss:0.37965#011train-balanced_accuracy:0.83887#011validation-mlogloss:0.39801#011validation-balanced_accuracy:0.83165\u001b[0m\n",
      "\u001b[34m[63]#011train-mlogloss:0.37934#011train-balanced_accuracy:0.83897#011validation-mlogloss:0.39795#011validation-balanced_accuracy:0.83225\u001b[0m\n",
      "\u001b[34m[64]#011train-mlogloss:0.37883#011train-balanced_accuracy:0.83907#011validation-mlogloss:0.39777#011validation-balanced_accuracy:0.83196\u001b[0m\n",
      "\u001b[34m[65]#011train-mlogloss:0.37858#011train-balanced_accuracy:0.83911#011validation-mlogloss:0.39763#011validation-balanced_accuracy:0.83195\u001b[0m\n",
      "\u001b[34m[66]#011train-mlogloss:0.37818#011train-balanced_accuracy:0.83931#011validation-mlogloss:0.39744#011validation-balanced_accuracy:0.83216\u001b[0m\n",
      "\u001b[34m[67]#011train-mlogloss:0.37782#011train-balanced_accuracy:0.83962#011validation-mlogloss:0.39746#011validation-balanced_accuracy:0.83145\u001b[0m\n",
      "\u001b[34m[68]#011train-mlogloss:0.37750#011train-balanced_accuracy:0.83977#011validation-mlogloss:0.39760#011validation-balanced_accuracy:0.83155\u001b[0m\n",
      "\u001b[34m[69]#011train-mlogloss:0.37698#011train-balanced_accuracy:0.84023#011validation-mlogloss:0.39740#011validation-balanced_accuracy:0.83146\u001b[0m\n",
      "\u001b[34m[70]#011train-mlogloss:0.37652#011train-balanced_accuracy:0.84030#011validation-mlogloss:0.39741#011validation-balanced_accuracy:0.83155\u001b[0m\n",
      "\u001b[34m[71]#011train-mlogloss:0.37610#011train-balanced_accuracy:0.84040#011validation-mlogloss:0.39734#011validation-balanced_accuracy:0.83155\u001b[0m\n",
      "\u001b[34m[72]#011train-mlogloss:0.37581#011train-balanced_accuracy:0.84050#011validation-mlogloss:0.39730#011validation-balanced_accuracy:0.83084\u001b[0m\n",
      "\u001b[34m[73]#011train-mlogloss:0.37548#011train-balanced_accuracy:0.84057#011validation-mlogloss:0.39730#011validation-balanced_accuracy:0.83114\u001b[0m\n",
      "\u001b[34m[74]#011train-mlogloss:0.37508#011train-balanced_accuracy:0.84073#011validation-mlogloss:0.39709#011validation-balanced_accuracy:0.83125\u001b[0m\n",
      "\u001b[34m[75]#011train-mlogloss:0.37498#011train-balanced_accuracy:0.84065#011validation-mlogloss:0.39710#011validation-balanced_accuracy:0.83124\u001b[0m\n",
      "\u001b[34m[76]#011train-mlogloss:0.37469#011train-balanced_accuracy:0.84090#011validation-mlogloss:0.39718#011validation-balanced_accuracy:0.83125\u001b[0m\n",
      "\u001b[34m[77]#011train-mlogloss:0.37427#011train-balanced_accuracy:0.84106#011validation-mlogloss:0.39704#011validation-balanced_accuracy:0.83105\u001b[0m\n",
      "\u001b[34m[78]#011train-mlogloss:0.37424#011train-balanced_accuracy:0.84108#011validation-mlogloss:0.39705#011validation-balanced_accuracy:0.83105\u001b[0m\n",
      "\u001b[34m[79]#011train-mlogloss:0.37389#011train-balanced_accuracy:0.84123#011validation-mlogloss:0.39694#011validation-balanced_accuracy:0.83156\u001b[0m\n",
      "\u001b[34m[80]#011train-mlogloss:0.37364#011train-balanced_accuracy:0.84129#011validation-mlogloss:0.39700#011validation-balanced_accuracy:0.83157\u001b[0m\n",
      "\u001b[34m[81]#011train-mlogloss:0.37320#011train-balanced_accuracy:0.84158#011validation-mlogloss:0.39668#011validation-balanced_accuracy:0.83105\u001b[0m\n",
      "\u001b[34m[82]#011train-mlogloss:0.37298#011train-balanced_accuracy:0.84165#011validation-mlogloss:0.39659#011validation-balanced_accuracy:0.83095\u001b[0m\n",
      "\u001b[34m[83]#011train-mlogloss:0.37273#011train-balanced_accuracy:0.84168#011validation-mlogloss:0.39644#011validation-balanced_accuracy:0.83106\u001b[0m\n",
      "\u001b[34m[84]#011train-mlogloss:0.37243#011train-balanced_accuracy:0.84189#011validation-mlogloss:0.39625#011validation-balanced_accuracy:0.83135\u001b[0m\n",
      "\u001b[34m[85]#011train-mlogloss:0.37218#011train-balanced_accuracy:0.84199#011validation-mlogloss:0.39628#011validation-balanced_accuracy:0.83155\u001b[0m\n",
      "\u001b[34m[86]#011train-mlogloss:0.37146#011train-balanced_accuracy:0.84231#011validation-mlogloss:0.39607#011validation-balanced_accuracy:0.83106\u001b[0m\n",
      "\u001b[34m[87]#011train-mlogloss:0.37122#011train-balanced_accuracy:0.84232#011validation-mlogloss:0.39603#011validation-balanced_accuracy:0.83147\u001b[0m\n",
      "\u001b[34m[88]#011train-mlogloss:0.37114#011train-balanced_accuracy:0.84235#011validation-mlogloss:0.39605#011validation-balanced_accuracy:0.83127\u001b[0m\n",
      "\u001b[34m[89]#011train-mlogloss:0.37075#011train-balanced_accuracy:0.84246#011validation-mlogloss:0.39587#011validation-balanced_accuracy:0.83166\u001b[0m\n",
      "\u001b[34m[90]#011train-mlogloss:0.37042#011train-balanced_accuracy:0.84249#011validation-mlogloss:0.39579#011validation-balanced_accuracy:0.83186\u001b[0m\n",
      "\u001b[34m[91]#011train-mlogloss:0.37024#011train-balanced_accuracy:0.84256#011validation-mlogloss:0.39575#011validation-balanced_accuracy:0.83196\u001b[0m\n",
      "\u001b[34m[92]#011train-mlogloss:0.36989#011train-balanced_accuracy:0.84274#011validation-mlogloss:0.39561#011validation-balanced_accuracy:0.83228\u001b[0m\n",
      "\u001b[34m[93]#011train-mlogloss:0.36964#011train-balanced_accuracy:0.84280#011validation-mlogloss:0.39562#011validation-balanced_accuracy:0.83187\u001b[0m\n",
      "\u001b[34m[94]#011train-mlogloss:0.36908#011train-balanced_accuracy:0.84311#011validation-mlogloss:0.39539#011validation-balanced_accuracy:0.83196\u001b[0m\n",
      "\u001b[34m[95]#011train-mlogloss:0.36874#011train-balanced_accuracy:0.84330#011validation-mlogloss:0.39542#011validation-balanced_accuracy:0.83206\u001b[0m\n",
      "\u001b[34m[96]#011train-mlogloss:0.36844#011train-balanced_accuracy:0.84344#011validation-mlogloss:0.39539#011validation-balanced_accuracy:0.83226\u001b[0m\n",
      "\u001b[34m[97]#011train-mlogloss:0.36815#011train-balanced_accuracy:0.84346#011validation-mlogloss:0.39540#011validation-balanced_accuracy:0.83206\u001b[0m\n",
      "\u001b[34m[98]#011train-mlogloss:0.36799#011train-balanced_accuracy:0.84350#011validation-mlogloss:0.39549#011validation-balanced_accuracy:0.83235\u001b[0m\n",
      "\u001b[34m[99]#011train-mlogloss:0.36793#011train-balanced_accuracy:0.84353#011validation-mlogloss:0.39546#011validation-balanced_accuracy:0.83225\u001b[0m\n",
      "\u001b[34m[100]#011train-mlogloss:0.36752#011train-balanced_accuracy:0.84366#011validation-mlogloss:0.39535#011validation-balanced_accuracy:0.83225\u001b[0m\n",
      "\u001b[34m[101]#011train-mlogloss:0.36721#011train-balanced_accuracy:0.84390#011validation-mlogloss:0.39530#011validation-balanced_accuracy:0.83205\u001b[0m\n",
      "\u001b[34m[102]#011train-mlogloss:0.36681#011train-balanced_accuracy:0.84409#011validation-mlogloss:0.39516#011validation-balanced_accuracy:0.83196\u001b[0m\n",
      "\u001b[34m[103]#011train-mlogloss:0.36641#011train-balanced_accuracy:0.84436#011validation-mlogloss:0.39497#011validation-balanced_accuracy:0.83228\u001b[0m\n",
      "\u001b[34m[104]#011train-mlogloss:0.36625#011train-balanced_accuracy:0.84456#011validation-mlogloss:0.39491#011validation-balanced_accuracy:0.83208\u001b[0m\n",
      "\u001b[34m[105]#011train-mlogloss:0.36589#011train-balanced_accuracy:0.84446#011validation-mlogloss:0.39488#011validation-balanced_accuracy:0.83217\u001b[0m\n",
      "\u001b[34m[106]#011train-mlogloss:0.36557#011train-balanced_accuracy:0.84464#011validation-mlogloss:0.39474#011validation-balanced_accuracy:0.83247\u001b[0m\n",
      "\u001b[34m[107]#011train-mlogloss:0.36531#011train-balanced_accuracy:0.84464#011validation-mlogloss:0.39477#011validation-balanced_accuracy:0.83256\u001b[0m\n",
      "\u001b[34m[108]#011train-mlogloss:0.36517#011train-balanced_accuracy:0.84455#011validation-mlogloss:0.39476#011validation-balanced_accuracy:0.83226\u001b[0m\n",
      "\u001b[34m[109]#011train-mlogloss:0.36479#011train-balanced_accuracy:0.84475#011validation-mlogloss:0.39481#011validation-balanced_accuracy:0.83246\u001b[0m\n",
      "\u001b[34m[110]#011train-mlogloss:0.36456#011train-balanced_accuracy:0.84483#011validation-mlogloss:0.39482#011validation-balanced_accuracy:0.83246\u001b[0m\n",
      "\u001b[34m[111]#011train-mlogloss:0.36425#011train-balanced_accuracy:0.84512#011validation-mlogloss:0.39473#011validation-balanced_accuracy:0.83256\u001b[0m\n",
      "\u001b[34m[112]#011train-mlogloss:0.36396#011train-balanced_accuracy:0.84517#011validation-mlogloss:0.39469#011validation-balanced_accuracy:0.83226\u001b[0m\n",
      "\u001b[34m[113]#011train-mlogloss:0.36381#011train-balanced_accuracy:0.84535#011validation-mlogloss:0.39470#011validation-balanced_accuracy:0.83236\u001b[0m\n",
      "\u001b[34m[114]#011train-mlogloss:0.36354#011train-balanced_accuracy:0.84542#011validation-mlogloss:0.39463#011validation-balanced_accuracy:0.83237\u001b[0m\n",
      "\u001b[34m[115]#011train-mlogloss:0.36343#011train-balanced_accuracy:0.84539#011validation-mlogloss:0.39467#011validation-balanced_accuracy:0.83237\u001b[0m\n",
      "\u001b[34m[116]#011train-mlogloss:0.36316#011train-balanced_accuracy:0.84557#011validation-mlogloss:0.39463#011validation-balanced_accuracy:0.83247\u001b[0m\n",
      "\u001b[34m[117]#011train-mlogloss:0.36296#011train-balanced_accuracy:0.84577#011validation-mlogloss:0.39467#011validation-balanced_accuracy:0.83237\u001b[0m\n",
      "\u001b[34m[118]#011train-mlogloss:0.36285#011train-balanced_accuracy:0.84572#011validation-mlogloss:0.39465#011validation-balanced_accuracy:0.83227\u001b[0m\n",
      "\u001b[34m[119]#011train-mlogloss:0.36251#011train-balanced_accuracy:0.84591#011validation-mlogloss:0.39464#011validation-balanced_accuracy:0.83258\u001b[0m\n",
      "\u001b[34m[120]#011train-mlogloss:0.36240#011train-balanced_accuracy:0.84587#011validation-mlogloss:0.39461#011validation-balanced_accuracy:0.83288\u001b[0m\n",
      "\u001b[34m[121]#011train-mlogloss:0.36227#011train-balanced_accuracy:0.84597#011validation-mlogloss:0.39464#011validation-balanced_accuracy:0.83318\u001b[0m\n",
      "\u001b[34m[122]#011train-mlogloss:0.36192#011train-balanced_accuracy:0.84618#011validation-mlogloss:0.39451#011validation-balanced_accuracy:0.83340\u001b[0m\n",
      "\u001b[34m[123]#011train-mlogloss:0.36167#011train-balanced_accuracy:0.84615#011validation-mlogloss:0.39449#011validation-balanced_accuracy:0.83350\u001b[0m\n",
      "\u001b[34m[124]#011train-mlogloss:0.36143#011train-balanced_accuracy:0.84626#011validation-mlogloss:0.39438#011validation-balanced_accuracy:0.83339\u001b[0m\n",
      "\u001b[34m[125]#011train-mlogloss:0.36116#011train-balanced_accuracy:0.84635#011validation-mlogloss:0.39439#011validation-balanced_accuracy:0.83359\u001b[0m\n",
      "\u001b[34m[126]#011train-mlogloss:0.36085#011train-balanced_accuracy:0.84635#011validation-mlogloss:0.39419#011validation-balanced_accuracy:0.83369\u001b[0m\n",
      "\u001b[34m[127]#011train-mlogloss:0.36072#011train-balanced_accuracy:0.84655#011validation-mlogloss:0.39426#011validation-balanced_accuracy:0.83349\u001b[0m\n",
      "\u001b[34m[128]#011train-mlogloss:0.36054#011train-balanced_accuracy:0.84662#011validation-mlogloss:0.39424#011validation-balanced_accuracy:0.83319\u001b[0m\n",
      "\u001b[34m[129]#011train-mlogloss:0.36039#011train-balanced_accuracy:0.84678#011validation-mlogloss:0.39424#011validation-balanced_accuracy:0.83308\u001b[0m\n",
      "\u001b[34m[130]#011train-mlogloss:0.36016#011train-balanced_accuracy:0.84697#011validation-mlogloss:0.39420#011validation-balanced_accuracy:0.83309\u001b[0m\n",
      "\u001b[34m[131]#011train-mlogloss:0.35997#011train-balanced_accuracy:0.84701#011validation-mlogloss:0.39433#011validation-balanced_accuracy:0.83270\u001b[0m\n",
      "\u001b[34m[132]#011train-mlogloss:0.35987#011train-balanced_accuracy:0.84698#011validation-mlogloss:0.39428#011validation-balanced_accuracy:0.83240\u001b[0m\n",
      "\u001b[34m[133]#011train-mlogloss:0.35971#011train-balanced_accuracy:0.84701#011validation-mlogloss:0.39428#011validation-balanced_accuracy:0.83270\u001b[0m\n",
      "\u001b[34m[134]#011train-mlogloss:0.35945#011train-balanced_accuracy:0.84738#011validation-mlogloss:0.39428#011validation-balanced_accuracy:0.83239\u001b[0m\n",
      "\u001b[34m[135]#011train-mlogloss:0.35926#011train-balanced_accuracy:0.84761#011validation-mlogloss:0.39428#011validation-balanced_accuracy:0.83250\u001b[0m\n",
      "\u001b[34m[136]#011train-mlogloss:0.35911#011train-balanced_accuracy:0.84767#011validation-mlogloss:0.39434#011validation-balanced_accuracy:0.83210\u001b[0m\n",
      "\u001b[34m[137]#011train-mlogloss:0.35894#011train-balanced_accuracy:0.84782#011validation-mlogloss:0.39442#011validation-balanced_accuracy:0.83220\u001b[0m\n",
      "\u001b[34m[138]#011train-mlogloss:0.35871#011train-balanced_accuracy:0.84780#011validation-mlogloss:0.39449#011validation-balanced_accuracy:0.83190\u001b[0m\n",
      "\u001b[34m[139]#011train-mlogloss:0.35858#011train-balanced_accuracy:0.84797#011validation-mlogloss:0.39443#011validation-balanced_accuracy:0.83200\u001b[0m\n",
      "\u001b[34m[140]#011train-mlogloss:0.35831#011train-balanced_accuracy:0.84813#011validation-mlogloss:0.39444#011validation-balanced_accuracy:0.83170\u001b[0m\n",
      "\u001b[34m[141]#011train-mlogloss:0.35815#011train-balanced_accuracy:0.84822#011validation-mlogloss:0.39444#011validation-balanced_accuracy:0.83170\u001b[0m\n",
      "\u001b[34m[142]#011train-mlogloss:0.35776#011train-balanced_accuracy:0.84847#011validation-mlogloss:0.39428#011validation-balanced_accuracy:0.83148\u001b[0m\n",
      "\u001b[34m[143]#011train-mlogloss:0.35760#011train-balanced_accuracy:0.84848#011validation-mlogloss:0.39423#011validation-balanced_accuracy:0.83179\u001b[0m\n",
      "\u001b[34m[144]#011train-mlogloss:0.35746#011train-balanced_accuracy:0.84859#011validation-mlogloss:0.39420#011validation-balanced_accuracy:0.83220\u001b[0m\n",
      "\u001b[34m[145]#011train-mlogloss:0.35724#011train-balanced_accuracy:0.84855#011validation-mlogloss:0.39412#011validation-balanced_accuracy:0.83209\u001b[0m\n",
      "\u001b[34m[146]#011train-mlogloss:0.35708#011train-balanced_accuracy:0.84854#011validation-mlogloss:0.39405#011validation-balanced_accuracy:0.83179\u001b[0m\n",
      "\u001b[34m[147]#011train-mlogloss:0.35689#011train-balanced_accuracy:0.84857#011validation-mlogloss:0.39413#011validation-balanced_accuracy:0.83179\u001b[0m\n",
      "\u001b[34m[148]#011train-mlogloss:0.35674#011train-balanced_accuracy:0.84860#011validation-mlogloss:0.39407#011validation-balanced_accuracy:0.83200\u001b[0m\n",
      "\u001b[34m[149]#011train-mlogloss:0.35638#011train-balanced_accuracy:0.84864#011validation-mlogloss:0.39390#011validation-balanced_accuracy:0.83220\u001b[0m\n",
      "\n",
      "2023-11-07 11:10:58 Uploading - Uploading generated training model\n",
      "2023-11-07 11:10:58 Completed - Training job completed\n",
      "Training seconds: 148\n",
      "Billable seconds: 148\n"
     ]
    }
   ],
   "source": [
    "import sagemaker\n",
    "import boto3\n",
    "from sagemaker import image_uris\n",
    "from sagemaker.session import Session\n",
    "from sagemaker.inputs import TrainingInput\n",
    "\n",
    "# initialize hyperparameters\n",
    "hyperparameters = {\n",
    "        \"eval_metric\":\"balanced_accuracy\",\n",
    "        \"num_class\":6,\n",
    "        \"max_depth\":\"5\",\n",
    "        \"eta\":\"0.2\",\n",
    "        \"gamma\":\"4\",\n",
    "        \"min_child_weight\":\"6\",\n",
    "        \"subsample\":\"0.7\",\n",
    "        \"objective\":\"multi:softmax\",\n",
    "        \"num_round\":\"150\"}\n",
    "\n",
    "# set an output path where the trained model will be saved\n",
    "#bucket = sagemaker.Session().default_bucket()\n",
    "#prefix = 'DEMO-xgboost-as-a-built-in-algo'\n",
    "output_path = 's3://{}/{}/{}/output'.format(bucket, prefix, 'xgb-HAR-MulticlassificationModel')\n",
    "\n",
    "# this line automatically looks for the XGBoost image URI and builds an XGBoost container.\n",
    "# specify the repo_version depending on your preference.\n",
    "xgboost_container = sagemaker.image_uris.retrieve(\"xgboost\", region, \"1.7-1\")\n",
    "\n",
    "# construct a SageMaker estimator that calls the xgboost-container\n",
    "xgboost_estimator = sagemaker.estimator.Estimator(image_uri=xgboost_container, \n",
    "                                          hyperparameters=hyperparameters,\n",
    "                                          role=sagemaker.get_execution_role(),\n",
    "                                          instance_count=1, \n",
    "                                          instance_type='ml.m5.2xlarge', \n",
    "                                          volume_size=5, # 5 GB \n",
    "                                          output_path=output_path)\n",
    "\n",
    "# define the data type and paths to the training and validation datasets\n",
    "content_type = \"text/csv\"#\"libsvm\"\n",
    "train_input = TrainingInput(\"s3://{}/{}/{}/\".format(bucket, prefix, 'train'), content_type=content_type)\n",
    "validation_input = TrainingInput(\"s3://{}/{}/{}/\".format(bucket, prefix, 'validation'), content_type=content_type)\n",
    "\n",
    "# execute the XGBoost training job\n",
    "xgboost_estimator.fit({'train': train_input, 'validation': validation_input})\n"
   ]
  },
  {
   "cell_type": "markdown",
   "id": "67abcfa8-6342-45bd-b81e-d664df4f5fd3",
   "metadata": {
    "tags": []
   },
   "source": [
    "## Hosting"
   ]
  },
  {
   "cell_type": "code",
   "execution_count": 23,
   "id": "f3b76241-fe51-4c74-a510-38ea5834778e",
   "metadata": {
    "tags": []
   },
   "outputs": [],
   "source": [
    "from sagemaker.model_monitor import DataCaptureConfig\n",
    "\n",
    "# Set to True to enable data capture\n",
    "enable_capture = True\n",
    "\n",
    "# Optional - Sampling percentage. Choose an integer value between 0 and 100\n",
    "sampling_percentage = 100\n",
    "# sampling_percentage = 30 # Example 30%\n",
    "\n",
    "# Optional - The S3 URI of stored captured-data location\n",
    "s3_capture_upload_path =f\"s3://{bucket}/{prefix}/datacapture/\"\n",
    "\n",
    "# Specify either Input, Output or both. \n",
    "capture_modes = ['REQUEST','RESPONSE'] # In this example, we specify both\n",
    "\n",
    "# Configuration object passed in when deploying Models to SM endpoints\n",
    "data_capture_config = DataCaptureConfig(\n",
    "    enable_capture = enable_capture, \n",
    "    sampling_percentage = sampling_percentage, # Optional\n",
    "    destination_s3_uri = s3_capture_upload_path, # Optional\n",
    "    capture_options = [\"REQUEST\", \"RESPONSE\"],\n",
    ")"
   ]
  },
  {
   "cell_type": "code",
   "execution_count": 24,
   "id": "e120031b-1fc2-412d-b0c0-b8968782489e",
   "metadata": {
    "tags": []
   },
   "outputs": [
    {
     "name": "stdout",
     "output_type": "stream",
     "text": [
      "EndpointName = Sklearn-Inference-endpoint-2024-11-22-0649\n"
     ]
    }
   ],
   "source": [
    "from datetime import datetime\n",
    "\n",
    "sklearn_endpoint_name =f\"Sklearn-Inference-endpoint-{datetime.utcnow():%Y-%m-%d-%H%M}\"\n",
    "print(\"EndpointName =\", sklearn_endpoint_name)"
   ]
  },
  {
   "cell_type": "markdown",
   "id": "b820acd8-2b5d-4b42-b32c-96302ec90f48",
   "metadata": {
    "tags": []
   },
   "source": [
    "### Deploying Sklearn Randomforest"
   ]
  },
  {
   "cell_type": "code",
   "execution_count": 25,
   "id": "b4405e9e-2cba-446f-9385-c9b653e572fd",
   "metadata": {
    "tags": []
   },
   "outputs": [
    {
     "name": "stderr",
     "output_type": "stream",
     "text": [
      "INFO:sagemaker:Creating model with name: rf-scikit-2024-11-22-06-49-58-775\n",
      "INFO:sagemaker:Creating endpoint-config with name Sklearn-Inference-endpoint-2024-11-22-0649\n",
      "INFO:sagemaker:Creating endpoint with name Sklearn-Inference-endpoint-2024-11-22-0649\n"
     ]
    },
    {
     "name": "stdout",
     "output_type": "stream",
     "text": [
      "-------!"
     ]
    }
   ],
   "source": [
    "initial_instance_count=1\n",
    "# initial_instance_count=1 # Example\n",
    "\n",
    "instance_type='ml.m4.xlarge'\n",
    "# instance_type='ml.m4.xlarge' # Example\n",
    "\n",
    "sklearn_predictor =sklearn_estimator.deploy(\n",
    "    initial_instance_count=initial_instance_count,\n",
    "    instance_type=instance_type,\n",
    "    endpoint_name=sklearn_endpoint_name,\n",
    "    data_capture_config=data_capture_config,\n",
    "    wait = True\n",
    ")"
   ]
  },
  {
   "cell_type": "markdown",
   "id": "cbacb67a-a2b3-4a75-87be-155f9652741f",
   "metadata": {
    "tags": []
   },
   "source": []
  },
  {
   "cell_type": "markdown",
   "id": "724b3266-405c-4072-a82b-d8d34fd0d793",
   "metadata": {
    "tags": []
   },
   "source": [
    "### Real time Inference"
   ]
  },
  {
   "cell_type": "code",
   "execution_count": 26,
   "id": "7f8666d4-ae40-422f-85e3-84f599645b82",
   "metadata": {
    "tags": []
   },
   "outputs": [],
   "source": [
    "#sklearn_endpoint_name = 'Sklearn-Inference-endpoint-2023-11-07-1111'"
   ]
  },
  {
   "cell_type": "code",
   "execution_count": 33,
   "id": "7e8951bf-2796-48ad-8288-7ba83dc5da99",
   "metadata": {
    "tags": []
   },
   "outputs": [],
   "source": [
    "import json\n",
    "def real_time_prediction(data,ENDPOINT_NAME):\n",
    "    runtime= boto3.client('runtime.sagemaker')\n",
    "    df = data.copy()\n",
    "    n = df.shape[0]\n",
    "    if n == 1:\n",
    "        df = pd.concat([df,df])\n",
    "    payload_data = df.to_csv(header=False, index=False).encode(\"utf-8\")\n",
    "    print(df.shape)\n",
    "    response = runtime.invoke_endpoint(EndpointName=ENDPOINT_NAME,\n",
    "                                      ContentType='text/csv',\n",
    "                                      Body=payload_data)\n",
    "\n",
    "    result = json.loads(response['Body'].read().decode())\n",
    "    \n",
    "    preds = {\"Prediction\": result}\n",
    "    if n == 1:\n",
    "        preds = {'Prediction': preds['Prediction'][0]}\n",
    "    response_dict = {\n",
    "          \"statusCode\": 200,\n",
    "          \"body\": json.dumps(preds)\n",
    "                }\n",
    "    return response_dict"
   ]
  },
  {
   "cell_type": "code",
   "execution_count": 28,
   "id": "78162790-1afa-4498-a99e-d51d2e35fb98",
   "metadata": {
    "tags": []
   },
   "outputs": [],
   "source": [
    "test_path = f\"s3://{bucket}/{prefix}/test\""
   ]
  },
  {
   "cell_type": "code",
   "execution_count": 29,
   "id": "aaed36bb-52ff-452b-b6b1-e2c807f9cc31",
   "metadata": {
    "tags": []
   },
   "outputs": [],
   "source": [
    "test_x = pd.read_csv(test_path+ '/test_x.csv')"
   ]
  },
  {
   "cell_type": "code",
   "execution_count": 30,
   "id": "736e75d9-408b-42e2-87fe-429232469a9e",
   "metadata": {
    "tags": []
   },
   "outputs": [],
   "source": [
    "test_y = pd.read_csv(test_path+ '/test_y.csv')"
   ]
  },
  {
   "cell_type": "code",
   "execution_count": 31,
   "id": "5ebc1e58-fbf7-45ca-8945-a6f6126ff52a",
   "metadata": {
    "tags": []
   },
   "outputs": [
    {
     "data": {
      "text/html": [
       "<div>\n",
       "<style scoped>\n",
       "    .dataframe tbody tr th:only-of-type {\n",
       "        vertical-align: middle;\n",
       "    }\n",
       "\n",
       "    .dataframe tbody tr th {\n",
       "        vertical-align: top;\n",
       "    }\n",
       "\n",
       "    .dataframe thead th {\n",
       "        text-align: right;\n",
       "    }\n",
       "</style>\n",
       "<table border=\"1\" class=\"dataframe\">\n",
       "  <thead>\n",
       "    <tr style=\"text-align: right;\">\n",
       "      <th></th>\n",
       "      <th>0.90964761</th>\n",
       "      <th>0.82145643</th>\n",
       "      <th>0.91784581</th>\n",
       "      <th>0.93328399</th>\n",
       "      <th>-0.31182388</th>\n",
       "      <th>-0.3156575</th>\n",
       "      <th>0.29702062</th>\n",
       "      <th>-0.70932029</th>\n",
       "      <th>-0.8310076999999999</th>\n",
       "      <th>-0.25087752</th>\n",
       "      <th>-0.37023987</th>\n",
       "      <th>-0.55852449</th>\n",
       "    </tr>\n",
       "  </thead>\n",
       "  <tbody>\n",
       "    <tr>\n",
       "      <th>0</th>\n",
       "      <td>0.821800</td>\n",
       "      <td>0.710577</td>\n",
       "      <td>0.907217</td>\n",
       "      <td>0.890019</td>\n",
       "      <td>-0.225711</td>\n",
       "      <td>-0.200213</td>\n",
       "      <td>0.238525</td>\n",
       "      <td>-0.642606</td>\n",
       "      <td>-0.916824</td>\n",
       "      <td>-0.243019</td>\n",
       "      <td>-0.339247</td>\n",
       "      <td>-0.584124</td>\n",
       "    </tr>\n",
       "    <tr>\n",
       "      <th>1</th>\n",
       "      <td>0.894454</td>\n",
       "      <td>0.914757</td>\n",
       "      <td>0.988839</td>\n",
       "      <td>0.969176</td>\n",
       "      <td>-0.138790</td>\n",
       "      <td>-0.113810</td>\n",
       "      <td>0.178523</td>\n",
       "      <td>-0.867724</td>\n",
       "      <td>-0.971884</td>\n",
       "      <td>-0.160540</td>\n",
       "      <td>-0.994377</td>\n",
       "      <td>-0.998782</td>\n",
       "    </tr>\n",
       "    <tr>\n",
       "      <th>2</th>\n",
       "      <td>0.885234</td>\n",
       "      <td>0.889019</td>\n",
       "      <td>0.978596</td>\n",
       "      <td>0.959439</td>\n",
       "      <td>-0.213585</td>\n",
       "      <td>-0.186879</td>\n",
       "      <td>0.229476</td>\n",
       "      <td>-0.803546</td>\n",
       "      <td>-0.926257</td>\n",
       "      <td>-0.232910</td>\n",
       "      <td>-0.993920</td>\n",
       "      <td>-0.994717</td>\n",
       "    </tr>\n",
       "    <tr>\n",
       "      <th>3</th>\n",
       "      <td>0.872308</td>\n",
       "      <td>0.855536</td>\n",
       "      <td>0.966717</td>\n",
       "      <td>0.946672</td>\n",
       "      <td>0.150606</td>\n",
       "      <td>0.172140</td>\n",
       "      <td>-0.020129</td>\n",
       "      <td>-0.833786</td>\n",
       "      <td>-0.945098</td>\n",
       "      <td>0.122008</td>\n",
       "      <td>-0.986032</td>\n",
       "      <td>-0.989809</td>\n",
       "    </tr>\n",
       "    <tr>\n",
       "      <th>4</th>\n",
       "      <td>-0.663052</td>\n",
       "      <td>-0.986210</td>\n",
       "      <td>-0.545005</td>\n",
       "      <td>-0.597225</td>\n",
       "      <td>0.825943</td>\n",
       "      <td>0.840351</td>\n",
       "      <td>-0.582228</td>\n",
       "      <td>0.678570</td>\n",
       "      <td>0.374255</td>\n",
       "      <td>0.777107</td>\n",
       "      <td>-0.992175</td>\n",
       "      <td>-0.993918</td>\n",
       "    </tr>\n",
       "  </tbody>\n",
       "</table>\n",
       "</div>"
      ],
      "text/plain": [
       "   0.90964761  0.82145643  0.91784581  0.93328399  -0.31182388  -0.3156575  \\\n",
       "0    0.821800    0.710577    0.907217    0.890019    -0.225711   -0.200213   \n",
       "1    0.894454    0.914757    0.988839    0.969176    -0.138790   -0.113810   \n",
       "2    0.885234    0.889019    0.978596    0.959439    -0.213585   -0.186879   \n",
       "3    0.872308    0.855536    0.966717    0.946672     0.150606    0.172140   \n",
       "4   -0.663052   -0.986210   -0.545005   -0.597225     0.825943    0.840351   \n",
       "\n",
       "   0.29702062  -0.70932029  -0.8310076999999999  -0.25087752  -0.37023987  \\\n",
       "0    0.238525    -0.642606            -0.916824    -0.243019    -0.339247   \n",
       "1    0.178523    -0.867724            -0.971884    -0.160540    -0.994377   \n",
       "2    0.229476    -0.803546            -0.926257    -0.232910    -0.993920   \n",
       "3   -0.020129    -0.833786            -0.945098     0.122008    -0.986032   \n",
       "4   -0.582228     0.678570             0.374255     0.777107    -0.992175   \n",
       "\n",
       "   -0.55852449  \n",
       "0    -0.584124  \n",
       "1    -0.998782  \n",
       "2    -0.994717  \n",
       "3    -0.989809  \n",
       "4    -0.993918  "
      ]
     },
     "execution_count": 31,
     "metadata": {},
     "output_type": "execute_result"
    }
   ],
   "source": [
    "test_x.head()"
   ]
  },
  {
   "cell_type": "code",
   "execution_count": 34,
   "id": "4ea2d40d-6eee-4a59-960d-68c6d8a9e28f",
   "metadata": {
    "tags": []
   },
   "outputs": [
    {
     "name": "stdout",
     "output_type": "stream",
     "text": [
      "(10, 12)\n"
     ]
    },
    {
     "data": {
      "text/plain": [
       "{'statusCode': 200, 'body': '{\"Prediction\": [3, 2, 2, 1, 0, 2, 0, 1, 0, 5]}'}"
      ]
     },
     "execution_count": 34,
     "metadata": {},
     "output_type": "execute_result"
    }
   ],
   "source": [
    "\n",
    "real_time_prediction(test_x.iloc[0:10],sklearn_endpoint_name)"
   ]
  },
  {
   "cell_type": "code",
   "execution_count": 35,
   "id": "aba99110-4ee0-4f85-a300-83dea4c7fb5d",
   "metadata": {
    "tags": []
   },
   "outputs": [
    {
     "name": "stdout",
     "output_type": "stream",
     "text": [
      "(735, 12)\n"
     ]
    }
   ],
   "source": [
    "y_pred = real_time_prediction(test_x,sklearn_endpoint_name)"
   ]
  },
  {
   "cell_type": "code",
   "execution_count": 36,
   "id": "52a1f90d-e57f-418b-ab79-56975577ace2",
   "metadata": {
    "tags": []
   },
   "outputs": [],
   "source": [
    "y_pred = eval(y_pred['body'])['Prediction']"
   ]
  },
  {
   "cell_type": "code",
   "execution_count": 37,
   "id": "a181fb93-106d-4ff5-a2a5-ca5a916bf226",
   "metadata": {
    "tags": []
   },
   "outputs": [
    {
     "name": "stdout",
     "output_type": "stream",
     "text": [
      "              precision    recall  f1-score   support\n",
      "\n",
      "           0       1.00      1.00      1.00       134\n",
      "           1       0.96      0.93      0.95       138\n",
      "           2       0.94      0.96      0.95       141\n",
      "           3       0.95      0.91      0.93       135\n",
      "           4       0.86      0.91      0.89        82\n",
      "           5       0.95      0.95      0.95       105\n",
      "\n",
      "    accuracy                           0.95       735\n",
      "   macro avg       0.94      0.95      0.94       735\n",
      "weighted avg       0.95      0.95      0.95       735\n",
      "\n"
     ]
    }
   ],
   "source": [
    "from sklearn.metrics import classification_report\n",
    "print(classification_report(y_pred, test_y))"
   ]
  },
  {
   "cell_type": "code",
   "execution_count": null,
   "id": "1907c99a-5ef7-4450-a2bb-272d84a98492",
   "metadata": {},
   "outputs": [],
   "source": []
  },
  {
   "cell_type": "code",
   "execution_count": null,
   "id": "97955757-baed-4894-8038-ec8fc902d320",
   "metadata": {},
   "outputs": [],
   "source": []
  },
  {
   "cell_type": "markdown",
   "id": "1320ebd3-adcf-4fdc-b615-9ec65fec4588",
   "metadata": {},
   "source": [
    "### Deploying Sagemaker Xgboost"
   ]
  },
  {
   "cell_type": "code",
   "execution_count": null,
   "id": "280cae72-563d-42d7-a8e0-f5681b88a2bd",
   "metadata": {},
   "outputs": [],
   "source": [
    "model_url = f's3://{bucket}/{prefix}/xgb-HAR-MulticlassificationModel/output/sagemaker-xgboost-2023-11-07-11-07-08-936/output/model.tar.gz'\n",
    "\n",
    "from sagemaker import image_uris\n",
    "\n",
    "# Name of the framework or algorithm\n",
    "framework='xgboost'\n",
    "#framework='xgboost' # Example\n",
    "\n",
    "# Version of the framework or algorithm\n",
    "version = '1.7-1'\n",
    "#version = '0.90-1' # Example\n",
    "\n",
    "# Specify an AWS container image. \n",
    "container = image_uris.retrieve(region=region, \n",
    "                                framework=framework, \n",
    "                                version=version)\n",
    "\n",
    "##\n",
    "from sagemaker.model import Model\n",
    "\n",
    "model = Model(image_uri=container, \n",
    "              model_data=model_url, \n",
    "              role=role)\n",
    "\n",
    "##\n",
    "xgboost_endpoint_name = f\"Xgboost-Inference-endpoint-{datetime.utcnow():%Y-%m-%d-%H%M}\"\n",
    "print(\"EndpointName =\", xgboost_endpoint_name)\n",
    "\n",
    "##\n",
    "initial_instance_count=1\n",
    "# initial_instance_count=1 # Example\n",
    "\n",
    "instance_type='ml.m4.xlarge'\n",
    "# instance_type='ml.m4.xlarge' # Example\n",
    "\n",
    "model.deploy(\n",
    "    initial_instance_count=initial_instance_count,\n",
    "    instance_type=instance_type,\n",
    "    endpoint_name=xgboost_endpoint_name,\n",
    "    data_capture_config=data_capture_config,\n",
    "    wait = True\n",
    ")"
   ]
  },
  {
   "cell_type": "code",
   "execution_count": 1,
   "id": "c44ba27e-29ab-40be-8750-625e4196c981",
   "metadata": {
    "tags": []
   },
   "outputs": [],
   "source": [
    "#pd.crosstab(index=test_y['y'].values, columns=np.round(predictions), rownames=['actuals'], colnames=['predictions'])\n"
   ]
  },
  {
   "cell_type": "code",
   "execution_count": 182,
   "id": "3d11af0b-e29b-4e0e-b041-818a4c66ac76",
   "metadata": {
    "tags": []
   },
   "outputs": [],
   "source": [
    "###### END #######\n"
   ]
  }
 ],
 "metadata": {
  "availableInstances": [
   {
    "_defaultOrder": 0,
    "_isFastLaunch": true,
    "category": "General purpose",
    "gpuNum": 0,
    "hideHardwareSpecs": false,
    "memoryGiB": 4,
    "name": "ml.t3.medium",
    "vcpuNum": 2
   },
   {
    "_defaultOrder": 1,
    "_isFastLaunch": false,
    "category": "General purpose",
    "gpuNum": 0,
    "hideHardwareSpecs": false,
    "memoryGiB": 8,
    "name": "ml.t3.large",
    "vcpuNum": 2
   },
   {
    "_defaultOrder": 2,
    "_isFastLaunch": false,
    "category": "General purpose",
    "gpuNum": 0,
    "hideHardwareSpecs": false,
    "memoryGiB": 16,
    "name": "ml.t3.xlarge",
    "vcpuNum": 4
   },
   {
    "_defaultOrder": 3,
    "_isFastLaunch": false,
    "category": "General purpose",
    "gpuNum": 0,
    "hideHardwareSpecs": false,
    "memoryGiB": 32,
    "name": "ml.t3.2xlarge",
    "vcpuNum": 8
   },
   {
    "_defaultOrder": 4,
    "_isFastLaunch": true,
    "category": "General purpose",
    "gpuNum": 0,
    "hideHardwareSpecs": false,
    "memoryGiB": 8,
    "name": "ml.m5.large",
    "vcpuNum": 2
   },
   {
    "_defaultOrder": 5,
    "_isFastLaunch": false,
    "category": "General purpose",
    "gpuNum": 0,
    "hideHardwareSpecs": false,
    "memoryGiB": 16,
    "name": "ml.m5.xlarge",
    "vcpuNum": 4
   },
   {
    "_defaultOrder": 6,
    "_isFastLaunch": false,
    "category": "General purpose",
    "gpuNum": 0,
    "hideHardwareSpecs": false,
    "memoryGiB": 32,
    "name": "ml.m5.2xlarge",
    "vcpuNum": 8
   },
   {
    "_defaultOrder": 7,
    "_isFastLaunch": false,
    "category": "General purpose",
    "gpuNum": 0,
    "hideHardwareSpecs": false,
    "memoryGiB": 64,
    "name": "ml.m5.4xlarge",
    "vcpuNum": 16
   },
   {
    "_defaultOrder": 8,
    "_isFastLaunch": false,
    "category": "General purpose",
    "gpuNum": 0,
    "hideHardwareSpecs": false,
    "memoryGiB": 128,
    "name": "ml.m5.8xlarge",
    "vcpuNum": 32
   },
   {
    "_defaultOrder": 9,
    "_isFastLaunch": false,
    "category": "General purpose",
    "gpuNum": 0,
    "hideHardwareSpecs": false,
    "memoryGiB": 192,
    "name": "ml.m5.12xlarge",
    "vcpuNum": 48
   },
   {
    "_defaultOrder": 10,
    "_isFastLaunch": false,
    "category": "General purpose",
    "gpuNum": 0,
    "hideHardwareSpecs": false,
    "memoryGiB": 256,
    "name": "ml.m5.16xlarge",
    "vcpuNum": 64
   },
   {
    "_defaultOrder": 11,
    "_isFastLaunch": false,
    "category": "General purpose",
    "gpuNum": 0,
    "hideHardwareSpecs": false,
    "memoryGiB": 384,
    "name": "ml.m5.24xlarge",
    "vcpuNum": 96
   },
   {
    "_defaultOrder": 12,
    "_isFastLaunch": false,
    "category": "General purpose",
    "gpuNum": 0,
    "hideHardwareSpecs": false,
    "memoryGiB": 8,
    "name": "ml.m5d.large",
    "vcpuNum": 2
   },
   {
    "_defaultOrder": 13,
    "_isFastLaunch": false,
    "category": "General purpose",
    "gpuNum": 0,
    "hideHardwareSpecs": false,
    "memoryGiB": 16,
    "name": "ml.m5d.xlarge",
    "vcpuNum": 4
   },
   {
    "_defaultOrder": 14,
    "_isFastLaunch": false,
    "category": "General purpose",
    "gpuNum": 0,
    "hideHardwareSpecs": false,
    "memoryGiB": 32,
    "name": "ml.m5d.2xlarge",
    "vcpuNum": 8
   },
   {
    "_defaultOrder": 15,
    "_isFastLaunch": false,
    "category": "General purpose",
    "gpuNum": 0,
    "hideHardwareSpecs": false,
    "memoryGiB": 64,
    "name": "ml.m5d.4xlarge",
    "vcpuNum": 16
   },
   {
    "_defaultOrder": 16,
    "_isFastLaunch": false,
    "category": "General purpose",
    "gpuNum": 0,
    "hideHardwareSpecs": false,
    "memoryGiB": 128,
    "name": "ml.m5d.8xlarge",
    "vcpuNum": 32
   },
   {
    "_defaultOrder": 17,
    "_isFastLaunch": false,
    "category": "General purpose",
    "gpuNum": 0,
    "hideHardwareSpecs": false,
    "memoryGiB": 192,
    "name": "ml.m5d.12xlarge",
    "vcpuNum": 48
   },
   {
    "_defaultOrder": 18,
    "_isFastLaunch": false,
    "category": "General purpose",
    "gpuNum": 0,
    "hideHardwareSpecs": false,
    "memoryGiB": 256,
    "name": "ml.m5d.16xlarge",
    "vcpuNum": 64
   },
   {
    "_defaultOrder": 19,
    "_isFastLaunch": false,
    "category": "General purpose",
    "gpuNum": 0,
    "hideHardwareSpecs": false,
    "memoryGiB": 384,
    "name": "ml.m5d.24xlarge",
    "vcpuNum": 96
   },
   {
    "_defaultOrder": 20,
    "_isFastLaunch": false,
    "category": "General purpose",
    "gpuNum": 0,
    "hideHardwareSpecs": true,
    "memoryGiB": 0,
    "name": "ml.geospatial.interactive",
    "supportedImageNames": [
     "sagemaker-geospatial-v1-0"
    ],
    "vcpuNum": 0
   },
   {
    "_defaultOrder": 21,
    "_isFastLaunch": true,
    "category": "Compute optimized",
    "gpuNum": 0,
    "hideHardwareSpecs": false,
    "memoryGiB": 4,
    "name": "ml.c5.large",
    "vcpuNum": 2
   },
   {
    "_defaultOrder": 22,
    "_isFastLaunch": false,
    "category": "Compute optimized",
    "gpuNum": 0,
    "hideHardwareSpecs": false,
    "memoryGiB": 8,
    "name": "ml.c5.xlarge",
    "vcpuNum": 4
   },
   {
    "_defaultOrder": 23,
    "_isFastLaunch": false,
    "category": "Compute optimized",
    "gpuNum": 0,
    "hideHardwareSpecs": false,
    "memoryGiB": 16,
    "name": "ml.c5.2xlarge",
    "vcpuNum": 8
   },
   {
    "_defaultOrder": 24,
    "_isFastLaunch": false,
    "category": "Compute optimized",
    "gpuNum": 0,
    "hideHardwareSpecs": false,
    "memoryGiB": 32,
    "name": "ml.c5.4xlarge",
    "vcpuNum": 16
   },
   {
    "_defaultOrder": 25,
    "_isFastLaunch": false,
    "category": "Compute optimized",
    "gpuNum": 0,
    "hideHardwareSpecs": false,
    "memoryGiB": 72,
    "name": "ml.c5.9xlarge",
    "vcpuNum": 36
   },
   {
    "_defaultOrder": 26,
    "_isFastLaunch": false,
    "category": "Compute optimized",
    "gpuNum": 0,
    "hideHardwareSpecs": false,
    "memoryGiB": 96,
    "name": "ml.c5.12xlarge",
    "vcpuNum": 48
   },
   {
    "_defaultOrder": 27,
    "_isFastLaunch": false,
    "category": "Compute optimized",
    "gpuNum": 0,
    "hideHardwareSpecs": false,
    "memoryGiB": 144,
    "name": "ml.c5.18xlarge",
    "vcpuNum": 72
   },
   {
    "_defaultOrder": 28,
    "_isFastLaunch": false,
    "category": "Compute optimized",
    "gpuNum": 0,
    "hideHardwareSpecs": false,
    "memoryGiB": 192,
    "name": "ml.c5.24xlarge",
    "vcpuNum": 96
   },
   {
    "_defaultOrder": 29,
    "_isFastLaunch": true,
    "category": "Accelerated computing",
    "gpuNum": 1,
    "hideHardwareSpecs": false,
    "memoryGiB": 16,
    "name": "ml.g4dn.xlarge",
    "vcpuNum": 4
   },
   {
    "_defaultOrder": 30,
    "_isFastLaunch": false,
    "category": "Accelerated computing",
    "gpuNum": 1,
    "hideHardwareSpecs": false,
    "memoryGiB": 32,
    "name": "ml.g4dn.2xlarge",
    "vcpuNum": 8
   },
   {
    "_defaultOrder": 31,
    "_isFastLaunch": false,
    "category": "Accelerated computing",
    "gpuNum": 1,
    "hideHardwareSpecs": false,
    "memoryGiB": 64,
    "name": "ml.g4dn.4xlarge",
    "vcpuNum": 16
   },
   {
    "_defaultOrder": 32,
    "_isFastLaunch": false,
    "category": "Accelerated computing",
    "gpuNum": 1,
    "hideHardwareSpecs": false,
    "memoryGiB": 128,
    "name": "ml.g4dn.8xlarge",
    "vcpuNum": 32
   },
   {
    "_defaultOrder": 33,
    "_isFastLaunch": false,
    "category": "Accelerated computing",
    "gpuNum": 4,
    "hideHardwareSpecs": false,
    "memoryGiB": 192,
    "name": "ml.g4dn.12xlarge",
    "vcpuNum": 48
   },
   {
    "_defaultOrder": 34,
    "_isFastLaunch": false,
    "category": "Accelerated computing",
    "gpuNum": 1,
    "hideHardwareSpecs": false,
    "memoryGiB": 256,
    "name": "ml.g4dn.16xlarge",
    "vcpuNum": 64
   },
   {
    "_defaultOrder": 35,
    "_isFastLaunch": false,
    "category": "Accelerated computing",
    "gpuNum": 1,
    "hideHardwareSpecs": false,
    "memoryGiB": 61,
    "name": "ml.p3.2xlarge",
    "vcpuNum": 8
   },
   {
    "_defaultOrder": 36,
    "_isFastLaunch": false,
    "category": "Accelerated computing",
    "gpuNum": 4,
    "hideHardwareSpecs": false,
    "memoryGiB": 244,
    "name": "ml.p3.8xlarge",
    "vcpuNum": 32
   },
   {
    "_defaultOrder": 37,
    "_isFastLaunch": false,
    "category": "Accelerated computing",
    "gpuNum": 8,
    "hideHardwareSpecs": false,
    "memoryGiB": 488,
    "name": "ml.p3.16xlarge",
    "vcpuNum": 64
   },
   {
    "_defaultOrder": 38,
    "_isFastLaunch": false,
    "category": "Accelerated computing",
    "gpuNum": 8,
    "hideHardwareSpecs": false,
    "memoryGiB": 768,
    "name": "ml.p3dn.24xlarge",
    "vcpuNum": 96
   },
   {
    "_defaultOrder": 39,
    "_isFastLaunch": false,
    "category": "Memory Optimized",
    "gpuNum": 0,
    "hideHardwareSpecs": false,
    "memoryGiB": 16,
    "name": "ml.r5.large",
    "vcpuNum": 2
   },
   {
    "_defaultOrder": 40,
    "_isFastLaunch": false,
    "category": "Memory Optimized",
    "gpuNum": 0,
    "hideHardwareSpecs": false,
    "memoryGiB": 32,
    "name": "ml.r5.xlarge",
    "vcpuNum": 4
   },
   {
    "_defaultOrder": 41,
    "_isFastLaunch": false,
    "category": "Memory Optimized",
    "gpuNum": 0,
    "hideHardwareSpecs": false,
    "memoryGiB": 64,
    "name": "ml.r5.2xlarge",
    "vcpuNum": 8
   },
   {
    "_defaultOrder": 42,
    "_isFastLaunch": false,
    "category": "Memory Optimized",
    "gpuNum": 0,
    "hideHardwareSpecs": false,
    "memoryGiB": 128,
    "name": "ml.r5.4xlarge",
    "vcpuNum": 16
   },
   {
    "_defaultOrder": 43,
    "_isFastLaunch": false,
    "category": "Memory Optimized",
    "gpuNum": 0,
    "hideHardwareSpecs": false,
    "memoryGiB": 256,
    "name": "ml.r5.8xlarge",
    "vcpuNum": 32
   },
   {
    "_defaultOrder": 44,
    "_isFastLaunch": false,
    "category": "Memory Optimized",
    "gpuNum": 0,
    "hideHardwareSpecs": false,
    "memoryGiB": 384,
    "name": "ml.r5.12xlarge",
    "vcpuNum": 48
   },
   {
    "_defaultOrder": 45,
    "_isFastLaunch": false,
    "category": "Memory Optimized",
    "gpuNum": 0,
    "hideHardwareSpecs": false,
    "memoryGiB": 512,
    "name": "ml.r5.16xlarge",
    "vcpuNum": 64
   },
   {
    "_defaultOrder": 46,
    "_isFastLaunch": false,
    "category": "Memory Optimized",
    "gpuNum": 0,
    "hideHardwareSpecs": false,
    "memoryGiB": 768,
    "name": "ml.r5.24xlarge",
    "vcpuNum": 96
   },
   {
    "_defaultOrder": 47,
    "_isFastLaunch": false,
    "category": "Accelerated computing",
    "gpuNum": 1,
    "hideHardwareSpecs": false,
    "memoryGiB": 16,
    "name": "ml.g5.xlarge",
    "vcpuNum": 4
   },
   {
    "_defaultOrder": 48,
    "_isFastLaunch": false,
    "category": "Accelerated computing",
    "gpuNum": 1,
    "hideHardwareSpecs": false,
    "memoryGiB": 32,
    "name": "ml.g5.2xlarge",
    "vcpuNum": 8
   },
   {
    "_defaultOrder": 49,
    "_isFastLaunch": false,
    "category": "Accelerated computing",
    "gpuNum": 1,
    "hideHardwareSpecs": false,
    "memoryGiB": 64,
    "name": "ml.g5.4xlarge",
    "vcpuNum": 16
   },
   {
    "_defaultOrder": 50,
    "_isFastLaunch": false,
    "category": "Accelerated computing",
    "gpuNum": 1,
    "hideHardwareSpecs": false,
    "memoryGiB": 128,
    "name": "ml.g5.8xlarge",
    "vcpuNum": 32
   },
   {
    "_defaultOrder": 51,
    "_isFastLaunch": false,
    "category": "Accelerated computing",
    "gpuNum": 1,
    "hideHardwareSpecs": false,
    "memoryGiB": 256,
    "name": "ml.g5.16xlarge",
    "vcpuNum": 64
   },
   {
    "_defaultOrder": 52,
    "_isFastLaunch": false,
    "category": "Accelerated computing",
    "gpuNum": 4,
    "hideHardwareSpecs": false,
    "memoryGiB": 192,
    "name": "ml.g5.12xlarge",
    "vcpuNum": 48
   },
   {
    "_defaultOrder": 53,
    "_isFastLaunch": false,
    "category": "Accelerated computing",
    "gpuNum": 4,
    "hideHardwareSpecs": false,
    "memoryGiB": 384,
    "name": "ml.g5.24xlarge",
    "vcpuNum": 96
   },
   {
    "_defaultOrder": 54,
    "_isFastLaunch": false,
    "category": "Accelerated computing",
    "gpuNum": 8,
    "hideHardwareSpecs": false,
    "memoryGiB": 768,
    "name": "ml.g5.48xlarge",
    "vcpuNum": 192
   },
   {
    "_defaultOrder": 55,
    "_isFastLaunch": false,
    "category": "Accelerated computing",
    "gpuNum": 8,
    "hideHardwareSpecs": false,
    "memoryGiB": 1152,
    "name": "ml.p4d.24xlarge",
    "vcpuNum": 96
   },
   {
    "_defaultOrder": 56,
    "_isFastLaunch": false,
    "category": "Accelerated computing",
    "gpuNum": 8,
    "hideHardwareSpecs": false,
    "memoryGiB": 1152,
    "name": "ml.p4de.24xlarge",
    "vcpuNum": 96
   }
  ],
  "instance_type": "ml.t3.medium",
  "kernelspec": {
   "display_name": "Python 3 (ipykernel)",
   "language": "python",
   "name": "python3"
  },
  "language_info": {
   "codemirror_mode": {
    "name": "ipython",
    "version": 3
   },
   "file_extension": ".py",
   "mimetype": "text/x-python",
   "name": "python",
   "nbconvert_exporter": "python",
   "pygments_lexer": "ipython3",
   "version": "3.11.10"
  }
 },
 "nbformat": 4,
 "nbformat_minor": 5
}
